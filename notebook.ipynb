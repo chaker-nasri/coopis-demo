{
 "cells": [
  {
   "cell_type": "code",
   "execution_count": 3,
   "id": "bf1ad145-a16c-49a2-86ad-edf3bf768495",
   "metadata": {},
   "outputs": [
    {
     "name": "stdout",
     "output_type": "stream",
     "text": [
      "TensorFlow version: 2.19.0\n",
      "Exemple de ligne :\n",
      "                                                path  label\n",
      "0  landed,down,down,TRUE;landed,down,moving,FALSE...      1\n",
      "✅ Données prêtes : X.shape = (1069, 5, 4) , y.shape = (1069,)\n",
      "Répartition des classes dans les labels :\n",
      "  Classe 0 : 503 exemples\n",
      "  Classe 1 : 566 exemples\n",
      "✅ Données divisées :\n",
      "  Entraînement : (855, 5, 4)\n",
      "  Test        : (214, 5, 4)\n",
      "\n",
      "📂 Fold 1 =============================\n",
      "\u001b[1m7/7\u001b[0m \u001b[32m━━━━━━━━━━━━━━━━━━━━\u001b[0m\u001b[37m\u001b[0m \u001b[1m1s\u001b[0m 51ms/step\n",
      "Accuracy: 0.9766355140186916\n",
      "AUC: 0.9984929078014185\n",
      "Confusion matrix:\n",
      "[[ 90   4]\n",
      " [  1 119]]\n",
      "\n",
      "📂 Fold 2 =============================\n",
      "\u001b[1m7/7\u001b[0m \u001b[32m━━━━━━━━━━━━━━━━━━━━\u001b[0m\u001b[37m\u001b[0m \u001b[1m0s\u001b[0m 34ms/step\n",
      "Accuracy: 0.8411214953271028\n",
      "AUC: 0.9485032074126871\n",
      "Confusion matrix:\n",
      "[[87  5]\n",
      " [29 93]]\n",
      "\n",
      "📂 Fold 3 =============================\n",
      "\u001b[1m7/7\u001b[0m \u001b[32m━━━━━━━━━━━━━━━━━━━━\u001b[0m\u001b[37m\u001b[0m \u001b[1m0s\u001b[0m 41ms/step\n",
      "Accuracy: 0.9906542056074766\n",
      "AUC: 0.9996445392339821\n",
      "Confusion matrix:\n",
      "[[ 91   2]\n",
      " [  0 121]]\n",
      "\n",
      "📂 Fold 4 =============================\n",
      "\u001b[1m7/7\u001b[0m \u001b[32m━━━━━━━━━━━━━━━━━━━━\u001b[0m\u001b[37m\u001b[0m \u001b[1m0s\u001b[0m 26ms/step\n",
      "Accuracy: 0.9906542056074766\n",
      "AUC: 0.9968279143536874\n",
      "Confusion matrix:\n",
      "[[115   2]\n",
      " [  0  97]]\n",
      "\n",
      "📂 Fold 5 =============================\n",
      "\u001b[1m7/7\u001b[0m \u001b[32m━━━━━━━━━━━━━━━━━━━━\u001b[0m\u001b[37m\u001b[0m \u001b[1m0s\u001b[0m 35ms/step\n",
      "Accuracy: 0.9906103286384976\n",
      "AUC: 0.9998236642567448\n",
      "Confusion matrix:\n",
      "[[105   2]\n",
      " [  0 106]]\n",
      "\n",
      "📦 Entraînement final sur **toutes** les données\n",
      "Epoch 1/20\n",
      "\u001b[1m31/31\u001b[0m \u001b[32m━━━━━━━━━━━━━━━━━━━━\u001b[0m\u001b[37m\u001b[0m \u001b[1m2s\u001b[0m 14ms/step - accuracy: 0.5690 - loss: 0.6564 - val_accuracy: 0.0841 - val_loss: 0.8610\n",
      "Epoch 2/20\n",
      "\u001b[1m31/31\u001b[0m \u001b[32m━━━━━━━━━━━━━━━━━━━━\u001b[0m\u001b[37m\u001b[0m \u001b[1m0s\u001b[0m 5ms/step - accuracy: 0.6602 - loss: 0.5761 - val_accuracy: 0.6542 - val_loss: 0.6470\n",
      "Epoch 3/20\n",
      "\u001b[1m31/31\u001b[0m \u001b[32m━━━━━━━━━━━━━━━━━━━━\u001b[0m\u001b[37m\u001b[0m \u001b[1m0s\u001b[0m 5ms/step - accuracy: 0.8303 - loss: 0.4332 - val_accuracy: 0.7290 - val_loss: 0.5596\n",
      "Epoch 4/20\n",
      "\u001b[1m31/31\u001b[0m \u001b[32m━━━━━━━━━━━━━━━━━━━━\u001b[0m\u001b[37m\u001b[0m \u001b[1m0s\u001b[0m 5ms/step - accuracy: 0.8656 - loss: 0.3378 - val_accuracy: 0.8411 - val_loss: 0.3659\n",
      "Epoch 5/20\n",
      "\u001b[1m31/31\u001b[0m \u001b[32m━━━━━━━━━━━━━━━━━━━━\u001b[0m\u001b[37m\u001b[0m \u001b[1m0s\u001b[0m 5ms/step - accuracy: 0.8871 - loss: 0.2696 - val_accuracy: 0.9159 - val_loss: 0.2219\n",
      "Epoch 6/20\n",
      "\u001b[1m31/31\u001b[0m \u001b[32m━━━━━━━━━━━━━━━━━━━━\u001b[0m\u001b[37m\u001b[0m \u001b[1m0s\u001b[0m 5ms/step - accuracy: 0.9262 - loss: 0.2129 - val_accuracy: 0.9533 - val_loss: 0.1610\n",
      "Epoch 7/20\n",
      "\u001b[1m31/31\u001b[0m \u001b[32m━━━━━━━━━━━━━━━━━━━━\u001b[0m\u001b[37m\u001b[0m \u001b[1m0s\u001b[0m 5ms/step - accuracy: 0.9459 - loss: 0.1739 - val_accuracy: 0.9252 - val_loss: 0.1929\n",
      "Epoch 8/20\n",
      "\u001b[1m31/31\u001b[0m \u001b[32m━━━━━━━━━━━━━━━━━━━━\u001b[0m\u001b[37m\u001b[0m \u001b[1m0s\u001b[0m 5ms/step - accuracy: 0.9651 - loss: 0.1189 - val_accuracy: 0.8972 - val_loss: 0.2652\n",
      "Epoch 9/20\n",
      "\u001b[1m31/31\u001b[0m \u001b[32m━━━━━━━━━━━━━━━━━━━━\u001b[0m\u001b[37m\u001b[0m \u001b[1m0s\u001b[0m 5ms/step - accuracy: 0.9533 - loss: 0.1586 - val_accuracy: 0.9626 - val_loss: 0.1125\n",
      "Epoch 10/20\n",
      "\u001b[1m31/31\u001b[0m \u001b[32m━━━━━━━━━━━━━━━━━━━━\u001b[0m\u001b[37m\u001b[0m \u001b[1m0s\u001b[0m 6ms/step - accuracy: 0.9882 - loss: 0.0657 - val_accuracy: 0.9813 - val_loss: 0.0688\n",
      "Epoch 11/20\n",
      "\u001b[1m31/31\u001b[0m \u001b[32m━━━━━━━━━━━━━━━━━━━━\u001b[0m\u001b[37m\u001b[0m \u001b[1m0s\u001b[0m 5ms/step - accuracy: 0.9864 - loss: 0.0741 - val_accuracy: 0.9720 - val_loss: 0.1092\n",
      "Epoch 12/20\n",
      "\u001b[1m31/31\u001b[0m \u001b[32m━━━━━━━━━━━━━━━━━━━━\u001b[0m\u001b[37m\u001b[0m \u001b[1m0s\u001b[0m 5ms/step - accuracy: 0.9895 - loss: 0.0454 - val_accuracy: 0.9813 - val_loss: 0.0757\n",
      "Epoch 13/20\n",
      "\u001b[1m31/31\u001b[0m \u001b[32m━━━━━━━━━━━━━━━━━━━━\u001b[0m\u001b[37m\u001b[0m \u001b[1m0s\u001b[0m 5ms/step - accuracy: 0.9879 - loss: 0.0427 - val_accuracy: 0.9813 - val_loss: 0.0677\n",
      "Epoch 14/20\n",
      "\u001b[1m31/31\u001b[0m \u001b[32m━━━━━━━━━━━━━━━━━━━━\u001b[0m\u001b[37m\u001b[0m \u001b[1m0s\u001b[0m 7ms/step - accuracy: 0.9908 - loss: 0.0361 - val_accuracy: 0.9813 - val_loss: 0.0544\n",
      "Epoch 15/20\n",
      "\u001b[1m31/31\u001b[0m \u001b[32m━━━━━━━━━━━━━━━━━━━━\u001b[0m\u001b[37m\u001b[0m \u001b[1m0s\u001b[0m 6ms/step - accuracy: 0.9850 - loss: 0.0403 - val_accuracy: 0.9813 - val_loss: 0.0556\n",
      "Epoch 16/20\n",
      "\u001b[1m31/31\u001b[0m \u001b[32m━━━━━━━━━━━━━━━━━━━━\u001b[0m\u001b[37m\u001b[0m \u001b[1m0s\u001b[0m 6ms/step - accuracy: 0.9869 - loss: 0.0389 - val_accuracy: 0.9813 - val_loss: 0.0424\n",
      "Epoch 17/20\n",
      "\u001b[1m31/31\u001b[0m \u001b[32m━━━━━━━━━━━━━━━━━━━━\u001b[0m\u001b[37m\u001b[0m \u001b[1m0s\u001b[0m 6ms/step - accuracy: 0.9927 - loss: 0.0272 - val_accuracy: 0.9813 - val_loss: 0.0356\n",
      "Epoch 18/20\n",
      "\u001b[1m31/31\u001b[0m \u001b[32m━━━━━━━━━━━━━━━━━━━━\u001b[0m\u001b[37m\u001b[0m \u001b[1m0s\u001b[0m 12ms/step - accuracy: 0.9893 - loss: 0.0409 - val_accuracy: 0.9813 - val_loss: 0.0588\n",
      "Epoch 19/20\n",
      "\u001b[1m31/31\u001b[0m \u001b[32m━━━━━━━━━━━━━━━━━━━━\u001b[0m\u001b[37m\u001b[0m \u001b[1m0s\u001b[0m 11ms/step - accuracy: 0.9894 - loss: 0.0334 - val_accuracy: 0.9813 - val_loss: 0.0624\n",
      "Epoch 20/20\n",
      "\u001b[1m31/31\u001b[0m \u001b[32m━━━━━━━━━━━━━━━━━━━━\u001b[0m\u001b[37m\u001b[0m \u001b[1m0s\u001b[0m 8ms/step - accuracy: 0.9919 - loss: 0.0300 - val_accuracy: 0.9813 - val_loss: 0.0450\n",
      "\n",
      "  Exemple de filtrage et priorisation des chemins simulés\n",
      "\u001b[1m34/34\u001b[0m \u001b[32m━━━━━━━━━━━━━━━━━━━━\u001b[0m\u001b[37m\u001b[0m \u001b[1m0s\u001b[0m 4ms/step\n",
      "Nombre de chemins simulés : 1069\n",
      "Nombre après filtrage (prob valide >= 0.6) : 573\n",
      "\u001b[1m1/1\u001b[0m \u001b[32m━━━━━━━━━━━━━━━━━━━━\u001b[0m\u001b[37m\u001b[0m \u001b[1m0s\u001b[0m 52ms/step\n",
      "✔️  La propriété est VRAIE sur le chemin décrit dans generated_path.smv\n"
     ]
    },
    {
     "data": {
      "application/vnd.plotly.v1+json": {
       "config": {
        "plotlyServerURL": "https://plot.ly"
       },
       "data": [
        {
         "hoverinfo": "none",
         "line": {
          "color": "gray",
          "width": 1
         },
         "mode": "lines",
         "type": "scatter",
         "x": [
          -0.8238391610010021,
          -0.5682154018326923,
          null,
          -0.5682154018326923,
          -0.08452540609888799,
          null,
          -0.08452540609888799,
          0.47657996893258286,
          null,
          0.47657996893258286,
          1,
          null
         ],
         "y": [
          -0.25047079776193887,
          0.09905641878756173,
          null,
          0.09905641878756173,
          0.17619504175509149,
          null,
          0.17619504175509149,
          0.05894762251030648,
          null,
          0.05894762251030648,
          -0.08372828529102082,
          null
         ]
        },
        {
         "hoverinfo": "text",
         "marker": {
          "color": [
           "orange",
           "orange",
           "orange",
           "orange",
           "orange"
          ],
          "line": {
           "width": 2
          },
          "size": 22
         },
         "mode": "markers+text",
         "text": [
          "alt=cruise | cmd=down | st=down | lkd=FALSE<br>LSTM prob: 0.00",
          "alt=descent | cmd=up | st=up | lkd=TRUE<br>LSTM prob: 0.00",
          "alt=landed | cmd=up | st=down | lkd=FALSE<br>LSTM prob: 0.00",
          "alt=landed | cmd=down | st=moving | lkd=TRUE<br>LSTM prob: 0.00",
          "alt=cruise | cmd=up | st=up | lkd=TRUE<br>LSTM prob: 0.00"
         ],
         "textposition": "bottom center",
         "type": "scatter",
         "x": [
          -0.8238391610010021,
          -0.5682154018326923,
          -0.08452540609888799,
          0.47657996893258286,
          1
         ],
         "y": [
          -0.25047079776193887,
          0.09905641878756173,
          0.17619504175509149,
          0.05894762251030648,
          -0.08372828529102082
         ]
        }
       ],
       "layout": {
        "annotations": [
         {
          "align": "left",
          "font": {
           "size": 12
          },
          "showarrow": false,
          "text": "Node colors:<br>🟢 Green = True Positive (Valid & Satisfied)<br>🔵 Blue = True Negative (Invalid & Violated)<br>🔴 Red = False Positive (Predicted Valid, Actually Violated)<br>🟠 Orange = False Negative (Predicted Invalid, Actually Satisfied)",
          "x": 0.01,
          "xref": "paper",
          "y": -0.2,
          "yref": "paper"
         }
        ],
        "autosize": true,
        "hovermode": "closest",
        "margin": {
         "b": 60,
         "l": 10,
         "r": 10,
         "t": 60
        },
        "showlegend": false,
        "template": {
         "data": {
          "bar": [
           {
            "error_x": {
             "color": "#2a3f5f"
            },
            "error_y": {
             "color": "#2a3f5f"
            },
            "marker": {
             "line": {
              "color": "#E5ECF6",
              "width": 0.5
             },
             "pattern": {
              "fillmode": "overlay",
              "size": 10,
              "solidity": 0.2
             }
            },
            "type": "bar"
           }
          ],
          "barpolar": [
           {
            "marker": {
             "line": {
              "color": "#E5ECF6",
              "width": 0.5
             },
             "pattern": {
              "fillmode": "overlay",
              "size": 10,
              "solidity": 0.2
             }
            },
            "type": "barpolar"
           }
          ],
          "carpet": [
           {
            "aaxis": {
             "endlinecolor": "#2a3f5f",
             "gridcolor": "white",
             "linecolor": "white",
             "minorgridcolor": "white",
             "startlinecolor": "#2a3f5f"
            },
            "baxis": {
             "endlinecolor": "#2a3f5f",
             "gridcolor": "white",
             "linecolor": "white",
             "minorgridcolor": "white",
             "startlinecolor": "#2a3f5f"
            },
            "type": "carpet"
           }
          ],
          "choropleth": [
           {
            "colorbar": {
             "outlinewidth": 0,
             "ticks": ""
            },
            "type": "choropleth"
           }
          ],
          "contour": [
           {
            "colorbar": {
             "outlinewidth": 0,
             "ticks": ""
            },
            "colorscale": [
             [
              0,
              "#0d0887"
             ],
             [
              0.1111111111111111,
              "#46039f"
             ],
             [
              0.2222222222222222,
              "#7201a8"
             ],
             [
              0.3333333333333333,
              "#9c179e"
             ],
             [
              0.4444444444444444,
              "#bd3786"
             ],
             [
              0.5555555555555556,
              "#d8576b"
             ],
             [
              0.6666666666666666,
              "#ed7953"
             ],
             [
              0.7777777777777778,
              "#fb9f3a"
             ],
             [
              0.8888888888888888,
              "#fdca26"
             ],
             [
              1,
              "#f0f921"
             ]
            ],
            "type": "contour"
           }
          ],
          "contourcarpet": [
           {
            "colorbar": {
             "outlinewidth": 0,
             "ticks": ""
            },
            "type": "contourcarpet"
           }
          ],
          "heatmap": [
           {
            "colorbar": {
             "outlinewidth": 0,
             "ticks": ""
            },
            "colorscale": [
             [
              0,
              "#0d0887"
             ],
             [
              0.1111111111111111,
              "#46039f"
             ],
             [
              0.2222222222222222,
              "#7201a8"
             ],
             [
              0.3333333333333333,
              "#9c179e"
             ],
             [
              0.4444444444444444,
              "#bd3786"
             ],
             [
              0.5555555555555556,
              "#d8576b"
             ],
             [
              0.6666666666666666,
              "#ed7953"
             ],
             [
              0.7777777777777778,
              "#fb9f3a"
             ],
             [
              0.8888888888888888,
              "#fdca26"
             ],
             [
              1,
              "#f0f921"
             ]
            ],
            "type": "heatmap"
           }
          ],
          "histogram": [
           {
            "marker": {
             "pattern": {
              "fillmode": "overlay",
              "size": 10,
              "solidity": 0.2
             }
            },
            "type": "histogram"
           }
          ],
          "histogram2d": [
           {
            "colorbar": {
             "outlinewidth": 0,
             "ticks": ""
            },
            "colorscale": [
             [
              0,
              "#0d0887"
             ],
             [
              0.1111111111111111,
              "#46039f"
             ],
             [
              0.2222222222222222,
              "#7201a8"
             ],
             [
              0.3333333333333333,
              "#9c179e"
             ],
             [
              0.4444444444444444,
              "#bd3786"
             ],
             [
              0.5555555555555556,
              "#d8576b"
             ],
             [
              0.6666666666666666,
              "#ed7953"
             ],
             [
              0.7777777777777778,
              "#fb9f3a"
             ],
             [
              0.8888888888888888,
              "#fdca26"
             ],
             [
              1,
              "#f0f921"
             ]
            ],
            "type": "histogram2d"
           }
          ],
          "histogram2dcontour": [
           {
            "colorbar": {
             "outlinewidth": 0,
             "ticks": ""
            },
            "colorscale": [
             [
              0,
              "#0d0887"
             ],
             [
              0.1111111111111111,
              "#46039f"
             ],
             [
              0.2222222222222222,
              "#7201a8"
             ],
             [
              0.3333333333333333,
              "#9c179e"
             ],
             [
              0.4444444444444444,
              "#bd3786"
             ],
             [
              0.5555555555555556,
              "#d8576b"
             ],
             [
              0.6666666666666666,
              "#ed7953"
             ],
             [
              0.7777777777777778,
              "#fb9f3a"
             ],
             [
              0.8888888888888888,
              "#fdca26"
             ],
             [
              1,
              "#f0f921"
             ]
            ],
            "type": "histogram2dcontour"
           }
          ],
          "mesh3d": [
           {
            "colorbar": {
             "outlinewidth": 0,
             "ticks": ""
            },
            "type": "mesh3d"
           }
          ],
          "parcoords": [
           {
            "line": {
             "colorbar": {
              "outlinewidth": 0,
              "ticks": ""
             }
            },
            "type": "parcoords"
           }
          ],
          "pie": [
           {
            "automargin": true,
            "type": "pie"
           }
          ],
          "scatter": [
           {
            "fillpattern": {
             "fillmode": "overlay",
             "size": 10,
             "solidity": 0.2
            },
            "type": "scatter"
           }
          ],
          "scatter3d": [
           {
            "line": {
             "colorbar": {
              "outlinewidth": 0,
              "ticks": ""
             }
            },
            "marker": {
             "colorbar": {
              "outlinewidth": 0,
              "ticks": ""
             }
            },
            "type": "scatter3d"
           }
          ],
          "scattercarpet": [
           {
            "marker": {
             "colorbar": {
              "outlinewidth": 0,
              "ticks": ""
             }
            },
            "type": "scattercarpet"
           }
          ],
          "scattergeo": [
           {
            "marker": {
             "colorbar": {
              "outlinewidth": 0,
              "ticks": ""
             }
            },
            "type": "scattergeo"
           }
          ],
          "scattergl": [
           {
            "marker": {
             "colorbar": {
              "outlinewidth": 0,
              "ticks": ""
             }
            },
            "type": "scattergl"
           }
          ],
          "scattermap": [
           {
            "marker": {
             "colorbar": {
              "outlinewidth": 0,
              "ticks": ""
             }
            },
            "type": "scattermap"
           }
          ],
          "scattermapbox": [
           {
            "marker": {
             "colorbar": {
              "outlinewidth": 0,
              "ticks": ""
             }
            },
            "type": "scattermapbox"
           }
          ],
          "scatterpolar": [
           {
            "marker": {
             "colorbar": {
              "outlinewidth": 0,
              "ticks": ""
             }
            },
            "type": "scatterpolar"
           }
          ],
          "scatterpolargl": [
           {
            "marker": {
             "colorbar": {
              "outlinewidth": 0,
              "ticks": ""
             }
            },
            "type": "scatterpolargl"
           }
          ],
          "scatterternary": [
           {
            "marker": {
             "colorbar": {
              "outlinewidth": 0,
              "ticks": ""
             }
            },
            "type": "scatterternary"
           }
          ],
          "surface": [
           {
            "colorbar": {
             "outlinewidth": 0,
             "ticks": ""
            },
            "colorscale": [
             [
              0,
              "#0d0887"
             ],
             [
              0.1111111111111111,
              "#46039f"
             ],
             [
              0.2222222222222222,
              "#7201a8"
             ],
             [
              0.3333333333333333,
              "#9c179e"
             ],
             [
              0.4444444444444444,
              "#bd3786"
             ],
             [
              0.5555555555555556,
              "#d8576b"
             ],
             [
              0.6666666666666666,
              "#ed7953"
             ],
             [
              0.7777777777777778,
              "#fb9f3a"
             ],
             [
              0.8888888888888888,
              "#fdca26"
             ],
             [
              1,
              "#f0f921"
             ]
            ],
            "type": "surface"
           }
          ],
          "table": [
           {
            "cells": {
             "fill": {
              "color": "#EBF0F8"
             },
             "line": {
              "color": "white"
             }
            },
            "header": {
             "fill": {
              "color": "#C8D4E3"
             },
             "line": {
              "color": "white"
             }
            },
            "type": "table"
           }
          ]
         },
         "layout": {
          "annotationdefaults": {
           "arrowcolor": "#2a3f5f",
           "arrowhead": 0,
           "arrowwidth": 1
          },
          "autotypenumbers": "strict",
          "coloraxis": {
           "colorbar": {
            "outlinewidth": 0,
            "ticks": ""
           }
          },
          "colorscale": {
           "diverging": [
            [
             0,
             "#8e0152"
            ],
            [
             0.1,
             "#c51b7d"
            ],
            [
             0.2,
             "#de77ae"
            ],
            [
             0.3,
             "#f1b6da"
            ],
            [
             0.4,
             "#fde0ef"
            ],
            [
             0.5,
             "#f7f7f7"
            ],
            [
             0.6,
             "#e6f5d0"
            ],
            [
             0.7,
             "#b8e186"
            ],
            [
             0.8,
             "#7fbc41"
            ],
            [
             0.9,
             "#4d9221"
            ],
            [
             1,
             "#276419"
            ]
           ],
           "sequential": [
            [
             0,
             "#0d0887"
            ],
            [
             0.1111111111111111,
             "#46039f"
            ],
            [
             0.2222222222222222,
             "#7201a8"
            ],
            [
             0.3333333333333333,
             "#9c179e"
            ],
            [
             0.4444444444444444,
             "#bd3786"
            ],
            [
             0.5555555555555556,
             "#d8576b"
            ],
            [
             0.6666666666666666,
             "#ed7953"
            ],
            [
             0.7777777777777778,
             "#fb9f3a"
            ],
            [
             0.8888888888888888,
             "#fdca26"
            ],
            [
             1,
             "#f0f921"
            ]
           ],
           "sequentialminus": [
            [
             0,
             "#0d0887"
            ],
            [
             0.1111111111111111,
             "#46039f"
            ],
            [
             0.2222222222222222,
             "#7201a8"
            ],
            [
             0.3333333333333333,
             "#9c179e"
            ],
            [
             0.4444444444444444,
             "#bd3786"
            ],
            [
             0.5555555555555556,
             "#d8576b"
            ],
            [
             0.6666666666666666,
             "#ed7953"
            ],
            [
             0.7777777777777778,
             "#fb9f3a"
            ],
            [
             0.8888888888888888,
             "#fdca26"
            ],
            [
             1,
             "#f0f921"
            ]
           ]
          },
          "colorway": [
           "#636efa",
           "#EF553B",
           "#00cc96",
           "#ab63fa",
           "#FFA15A",
           "#19d3f3",
           "#FF6692",
           "#B6E880",
           "#FF97FF",
           "#FECB52"
          ],
          "font": {
           "color": "#2a3f5f"
          },
          "geo": {
           "bgcolor": "white",
           "lakecolor": "white",
           "landcolor": "#E5ECF6",
           "showlakes": true,
           "showland": true,
           "subunitcolor": "white"
          },
          "hoverlabel": {
           "align": "left"
          },
          "hovermode": "closest",
          "mapbox": {
           "style": "light"
          },
          "paper_bgcolor": "white",
          "plot_bgcolor": "#E5ECF6",
          "polar": {
           "angularaxis": {
            "gridcolor": "white",
            "linecolor": "white",
            "ticks": ""
           },
           "bgcolor": "#E5ECF6",
           "radialaxis": {
            "gridcolor": "white",
            "linecolor": "white",
            "ticks": ""
           }
          },
          "scene": {
           "xaxis": {
            "backgroundcolor": "#E5ECF6",
            "gridcolor": "white",
            "gridwidth": 2,
            "linecolor": "white",
            "showbackground": true,
            "ticks": "",
            "zerolinecolor": "white"
           },
           "yaxis": {
            "backgroundcolor": "#E5ECF6",
            "gridcolor": "white",
            "gridwidth": 2,
            "linecolor": "white",
            "showbackground": true,
            "ticks": "",
            "zerolinecolor": "white"
           },
           "zaxis": {
            "backgroundcolor": "#E5ECF6",
            "gridcolor": "white",
            "gridwidth": 2,
            "linecolor": "white",
            "showbackground": true,
            "ticks": "",
            "zerolinecolor": "white"
           }
          },
          "shapedefaults": {
           "line": {
            "color": "#2a3f5f"
           }
          },
          "ternary": {
           "aaxis": {
            "gridcolor": "white",
            "linecolor": "white",
            "ticks": ""
           },
           "baxis": {
            "gridcolor": "white",
            "linecolor": "white",
            "ticks": ""
           },
           "bgcolor": "#E5ECF6",
           "caxis": {
            "gridcolor": "white",
            "linecolor": "white",
            "ticks": ""
           }
          },
          "title": {
           "x": 0.05
          },
          "xaxis": {
           "automargin": true,
           "gridcolor": "white",
           "linecolor": "white",
           "ticks": "",
           "title": {
            "standoff": 15
           },
           "zerolinecolor": "white",
           "zerolinewidth": 2
          },
          "yaxis": {
           "automargin": true,
           "gridcolor": "white",
           "linecolor": "white",
           "ticks": "",
           "title": {
            "standoff": 15
           },
           "zerolinecolor": "white",
           "zerolinewidth": 2
          }
         }
        },
        "title": {
         "text": "🧠 LSTM Prediction: INVALID (p = 0.00) — NuSMV Result: SATISFIED"
        },
        "xaxis": {
         "autorange": true,
         "range": [
          -0.9550351383843289,
          1.1311959773833267
         ],
         "showgrid": false,
         "type": "linear",
         "visible": false,
         "zeroline": false
        },
        "yaxis": {
         "autorange": true,
         "range": [
          -0.3087553885712945,
          0.2344796325644471
         ],
         "showgrid": false,
         "type": "linear",
         "visible": false,
         "zeroline": false
        }
       }
      },
      "image/png": "[encoded data removed]"
     },
     "metadata": {},
     "output_type": "display_data"
    },
    {
     "name": "stdout",
     "output_type": "stream",
     "text": [
      "\u001b[1m1/1\u001b[0m \u001b[32m━━━━━━━━━━━━━━━━━━━━\u001b[0m\u001b[37m\u001b[0m \u001b[1m0s\u001b[0m 58ms/step\n",
      "✔️  La propriété est VRAIE sur le chemin décrit dans generated_path.smv\n"
     ]
    },
    {
     "data": {
      "application/vnd.plotly.v1+json": {
       "config": {
        "plotlyServerURL": "https://plot.ly"
       },
       "data": [
        {
         "hoverinfo": "none",
         "line": {
          "color": "gray",
          "width": 1
         },
         "mode": "lines",
         "type": "scatter",
         "x": [
          -0.9999999999999998,
          -0.9999999999999998,
          null,
          -0.9999999999999998,
          1,
          null,
          1,
          -0.9999999999999998,
          null
         ],
         "y": [
          0.984898746622984,
          0.984898746622984,
          null,
          0.984898746622984,
          -0.9848987466229836,
          null,
          -0.9848987466229836,
          0.984898746622984,
          null
         ]
        },
        {
         "hoverinfo": "text",
         "marker": {
          "color": [
           "orange",
           "orange"
          ],
          "line": {
           "width": 2
          },
          "size": 22
         },
         "mode": "markers+text",
         "text": [
          "alt=descent | cmd=up | st=moving | lkd=FALSE<br>LSTM prob: 0.00",
          "alt=descent | cmd=up | st=up | lkd=TRUE<br>LSTM prob: 0.00"
         ],
         "textposition": "bottom center",
         "type": "scatter",
         "x": [
          -0.9999999999999998,
          1
         ],
         "y": [
          0.984898746622984,
          -0.9848987466229836
         ]
        }
       ],
       "layout": {
        "annotations": [
         {
          "align": "left",
          "font": {
           "size": 12
          },
          "showarrow": false,
          "text": "Node colors:<br>🟢 Green = True Positive (Valid & Satisfied)<br>🔵 Blue = True Negative (Invalid & Violated)<br>🔴 Red = False Positive (Predicted Valid, Actually Violated)<br>🟠 Orange = False Negative (Predicted Invalid, Actually Satisfied)",
          "x": 0.01,
          "xref": "paper",
          "y": -0.2,
          "yref": "paper"
         }
        ],
        "autosize": true,
        "hovermode": "closest",
        "margin": {
         "b": 60,
         "l": 10,
         "r": 10,
         "t": 60
        },
        "showlegend": false,
        "template": {
         "data": {
          "bar": [
           {
            "error_x": {
             "color": "#2a3f5f"
            },
            "error_y": {
             "color": "#2a3f5f"
            },
            "marker": {
             "line": {
              "color": "#E5ECF6",
              "width": 0.5
             },
             "pattern": {
              "fillmode": "overlay",
              "size": 10,
              "solidity": 0.2
             }
            },
            "type": "bar"
           }
          ],
          "barpolar": [
           {
            "marker": {
             "line": {
              "color": "#E5ECF6",
              "width": 0.5
             },
             "pattern": {
              "fillmode": "overlay",
              "size": 10,
              "solidity": 0.2
             }
            },
            "type": "barpolar"
           }
          ],
          "carpet": [
           {
            "aaxis": {
             "endlinecolor": "#2a3f5f",
             "gridcolor": "white",
             "linecolor": "white",
             "minorgridcolor": "white",
             "startlinecolor": "#2a3f5f"
            },
            "baxis": {
             "endlinecolor": "#2a3f5f",
             "gridcolor": "white",
             "linecolor": "white",
             "minorgridcolor": "white",
             "startlinecolor": "#2a3f5f"
            },
            "type": "carpet"
           }
          ],
          "choropleth": [
           {
            "colorbar": {
             "outlinewidth": 0,
             "ticks": ""
            },
            "type": "choropleth"
           }
          ],
          "contour": [
           {
            "colorbar": {
             "outlinewidth": 0,
             "ticks": ""
            },
            "colorscale": [
             [
              0,
              "#0d0887"
             ],
             [
              0.1111111111111111,
              "#46039f"
             ],
             [
              0.2222222222222222,
              "#7201a8"
             ],
             [
              0.3333333333333333,
              "#9c179e"
             ],
             [
              0.4444444444444444,
              "#bd3786"
             ],
             [
              0.5555555555555556,
              "#d8576b"
             ],
             [
              0.6666666666666666,
              "#ed7953"
             ],
             [
              0.7777777777777778,
              "#fb9f3a"
             ],
             [
              0.8888888888888888,
              "#fdca26"
             ],
             [
              1,
              "#f0f921"
             ]
            ],
            "type": "contour"
           }
          ],
          "contourcarpet": [
           {
            "colorbar": {
             "outlinewidth": 0,
             "ticks": ""
            },
            "type": "contourcarpet"
           }
          ],
          "heatmap": [
           {
            "colorbar": {
             "outlinewidth": 0,
             "ticks": ""
            },
            "colorscale": [
             [
              0,
              "#0d0887"
             ],
             [
              0.1111111111111111,
              "#46039f"
             ],
             [
              0.2222222222222222,
              "#7201a8"
             ],
             [
              0.3333333333333333,
              "#9c179e"
             ],
             [
              0.4444444444444444,
              "#bd3786"
             ],
             [
              0.5555555555555556,
              "#d8576b"
             ],
             [
              0.6666666666666666,
              "#ed7953"
             ],
             [
              0.7777777777777778,
              "#fb9f3a"
             ],
             [
              0.8888888888888888,
              "#fdca26"
             ],
             [
              1,
              "#f0f921"
             ]
            ],
            "type": "heatmap"
           }
          ],
          "histogram": [
           {
            "marker": {
             "pattern": {
              "fillmode": "overlay",
              "size": 10,
              "solidity": 0.2
             }
            },
            "type": "histogram"
           }
          ],
          "histogram2d": [
           {
            "colorbar": {
             "outlinewidth": 0,
             "ticks": ""
            },
            "colorscale": [
             [
              0,
              "#0d0887"
             ],
             [
              0.1111111111111111,
              "#46039f"
             ],
             [
              0.2222222222222222,
              "#7201a8"
             ],
             [
              0.3333333333333333,
              "#9c179e"
             ],
             [
              0.4444444444444444,
              "#bd3786"
             ],
             [
              0.5555555555555556,
              "#d8576b"
             ],
             [
              0.6666666666666666,
              "#ed7953"
             ],
             [
              0.7777777777777778,
              "#fb9f3a"
             ],
             [
              0.8888888888888888,
              "#fdca26"
             ],
             [
              1,
              "#f0f921"
             ]
            ],
            "type": "histogram2d"
           }
          ],
          "histogram2dcontour": [
           {
            "colorbar": {
             "outlinewidth": 0,
             "ticks": ""
            },
            "colorscale": [
             [
              0,
              "#0d0887"
             ],
             [
              0.1111111111111111,
              "#46039f"
             ],
             [
              0.2222222222222222,
              "#7201a8"
             ],
             [
              0.3333333333333333,
              "#9c179e"
             ],
             [
              0.4444444444444444,
              "#bd3786"
             ],
             [
              0.5555555555555556,
              "#d8576b"
             ],
             [
              0.6666666666666666,
              "#ed7953"
             ],
             [
              0.7777777777777778,
              "#fb9f3a"
             ],
             [
              0.8888888888888888,
              "#fdca26"
             ],
             [
              1,
              "#f0f921"
             ]
            ],
            "type": "histogram2dcontour"
           }
          ],
          "mesh3d": [
           {
            "colorbar": {
             "outlinewidth": 0,
             "ticks": ""
            },
            "type": "mesh3d"
           }
          ],
          "parcoords": [
           {
            "line": {
             "colorbar": {
              "outlinewidth": 0,
              "ticks": ""
             }
            },
            "type": "parcoords"
           }
          ],
          "pie": [
           {
            "automargin": true,
            "type": "pie"
           }
          ],
          "scatter": [
           {
            "fillpattern": {
             "fillmode": "overlay",
             "size": 10,
             "solidity": 0.2
            },
            "type": "scatter"
           }
          ],
          "scatter3d": [
           {
            "line": {
             "colorbar": {
              "outlinewidth": 0,
              "ticks": ""
             }
            },
            "marker": {
             "colorbar": {
              "outlinewidth": 0,
              "ticks": ""
             }
            },
            "type": "scatter3d"
           }
          ],
          "scattercarpet": [
           {
            "marker": {
             "colorbar": {
              "outlinewidth": 0,
              "ticks": ""
             }
            },
            "type": "scattercarpet"
           }
          ],
          "scattergeo": [
           {
            "marker": {
             "colorbar": {
              "outlinewidth": 0,
              "ticks": ""
             }
            },
            "type": "scattergeo"
           }
          ],
          "scattergl": [
           {
            "marker": {
             "colorbar": {
              "outlinewidth": 0,
              "ticks": ""
             }
            },
            "type": "scattergl"
           }
          ],
          "scattermap": [
           {
            "marker": {
             "colorbar": {
              "outlinewidth": 0,
              "ticks": ""
             }
            },
            "type": "scattermap"
           }
          ],
          "scattermapbox": [
           {
            "marker": {
             "colorbar": {
              "outlinewidth": 0,
              "ticks": ""
             }
            },
            "type": "scattermapbox"
           }
          ],
          "scatterpolar": [
           {
            "marker": {
             "colorbar": {
              "outlinewidth": 0,
              "ticks": ""
             }
            },
            "type": "scatterpolar"
           }
          ],
          "scatterpolargl": [
           {
            "marker": {
             "colorbar": {
              "outlinewidth": 0,
              "ticks": ""
             }
            },
            "type": "scatterpolargl"
           }
          ],
          "scatterternary": [
           {
            "marker": {
             "colorbar": {
              "outlinewidth": 0,
              "ticks": ""
             }
            },
            "type": "scatterternary"
           }
          ],
          "surface": [
           {
            "colorbar": {
             "outlinewidth": 0,
             "ticks": ""
            },
            "colorscale": [
             [
              0,
              "#0d0887"
             ],
             [
              0.1111111111111111,
              "#46039f"
             ],
             [
              0.2222222222222222,
              "#7201a8"
             ],
             [
              0.3333333333333333,
              "#9c179e"
             ],
             [
              0.4444444444444444,
              "#bd3786"
             ],
             [
              0.5555555555555556,
              "#d8576b"
             ],
             [
              0.6666666666666666,
              "#ed7953"
             ],
             [
              0.7777777777777778,
              "#fb9f3a"
             ],
             [
              0.8888888888888888,
              "#fdca26"
             ],
             [
              1,
              "#f0f921"
             ]
            ],
            "type": "surface"
           }
          ],
          "table": [
           {
            "cells": {
             "fill": {
              "color": "#EBF0F8"
             },
             "line": {
              "color": "white"
             }
            },
            "header": {
             "fill": {
              "color": "#C8D4E3"
             },
             "line": {
              "color": "white"
             }
            },
            "type": "table"
           }
          ]
         },
         "layout": {
          "annotationdefaults": {
           "arrowcolor": "#2a3f5f",
           "arrowhead": 0,
           "arrowwidth": 1
          },
          "autotypenumbers": "strict",
          "coloraxis": {
           "colorbar": {
            "outlinewidth": 0,
            "ticks": ""
           }
          },
          "colorscale": {
           "diverging": [
            [
             0,
             "#8e0152"
            ],
            [
             0.1,
             "#c51b7d"
            ],
            [
             0.2,
             "#de77ae"
            ],
            [
             0.3,
             "#f1b6da"
            ],
            [
             0.4,
             "#fde0ef"
            ],
            [
             0.5,
             "#f7f7f7"
            ],
            [
             0.6,
             "#e6f5d0"
            ],
            [
             0.7,
             "#b8e186"
            ],
            [
             0.8,
             "#7fbc41"
            ],
            [
             0.9,
             "#4d9221"
            ],
            [
             1,
             "#276419"
            ]
           ],
           "sequential": [
            [
             0,
             "#0d0887"
            ],
            [
             0.1111111111111111,
             "#46039f"
            ],
            [
             0.2222222222222222,
             "#7201a8"
            ],
            [
             0.3333333333333333,
             "#9c179e"
            ],
            [
             0.4444444444444444,
             "#bd3786"
            ],
            [
             0.5555555555555556,
             "#d8576b"
            ],
            [
             0.6666666666666666,
             "#ed7953"
            ],
            [
             0.7777777777777778,
             "#fb9f3a"
            ],
            [
             0.8888888888888888,
             "#fdca26"
            ],
            [
             1,
             "#f0f921"
            ]
           ],
           "sequentialminus": [
            [
             0,
             "#0d0887"
            ],
            [
             0.1111111111111111,
             "#46039f"
            ],
            [
             0.2222222222222222,
             "#7201a8"
            ],
            [
             0.3333333333333333,
             "#9c179e"
            ],
            [
             0.4444444444444444,
             "#bd3786"
            ],
            [
             0.5555555555555556,
             "#d8576b"
            ],
            [
             0.6666666666666666,
             "#ed7953"
            ],
            [
             0.7777777777777778,
             "#fb9f3a"
            ],
            [
             0.8888888888888888,
             "#fdca26"
            ],
            [
             1,
             "#f0f921"
            ]
           ]
          },
          "colorway": [
           "#636efa",
           "#EF553B",
           "#00cc96",
           "#ab63fa",
           "#FFA15A",
           "#19d3f3",
           "#FF6692",
           "#B6E880",
           "#FF97FF",
           "#FECB52"
          ],
          "font": {
           "color": "#2a3f5f"
          },
          "geo": {
           "bgcolor": "white",
           "lakecolor": "white",
           "landcolor": "#E5ECF6",
           "showlakes": true,
           "showland": true,
           "subunitcolor": "white"
          },
          "hoverlabel": {
           "align": "left"
          },
          "hovermode": "closest",
          "mapbox": {
           "style": "light"
          },
          "paper_bgcolor": "white",
          "plot_bgcolor": "#E5ECF6",
          "polar": {
           "angularaxis": {
            "gridcolor": "white",
            "linecolor": "white",
            "ticks": ""
           },
           "bgcolor": "#E5ECF6",
           "radialaxis": {
            "gridcolor": "white",
            "linecolor": "white",
            "ticks": ""
           }
          },
          "scene": {
           "xaxis": {
            "backgroundcolor": "#E5ECF6",
            "gridcolor": "white",
            "gridwidth": 2,
            "linecolor": "white",
            "showbackground": true,
            "ticks": "",
            "zerolinecolor": "white"
           },
           "yaxis": {
            "backgroundcolor": "#E5ECF6",
            "gridcolor": "white",
            "gridwidth": 2,
            "linecolor": "white",
            "showbackground": true,
            "ticks": "",
            "zerolinecolor": "white"
           },
           "zaxis": {
            "backgroundcolor": "#E5ECF6",
            "gridcolor": "white",
            "gridwidth": 2,
            "linecolor": "white",
            "showbackground": true,
            "ticks": "",
            "zerolinecolor": "white"
           }
          },
          "shapedefaults": {
           "line": {
            "color": "#2a3f5f"
           }
          },
          "ternary": {
           "aaxis": {
            "gridcolor": "white",
            "linecolor": "white",
            "ticks": ""
           },
           "baxis": {
            "gridcolor": "white",
            "linecolor": "white",
            "ticks": ""
           },
           "bgcolor": "#E5ECF6",
           "caxis": {
            "gridcolor": "white",
            "linecolor": "white",
            "ticks": ""
           }
          },
          "title": {
           "x": 0.05
          },
          "xaxis": {
           "automargin": true,
           "gridcolor": "white",
           "linecolor": "white",
           "ticks": "",
           "title": {
            "standoff": 15
           },
           "zerolinecolor": "white",
           "zerolinewidth": 2
          },
          "yaxis": {
           "automargin": true,
           "gridcolor": "white",
           "linecolor": "white",
           "ticks": "",
           "title": {
            "standoff": 15
           },
           "zerolinecolor": "white",
           "zerolinewidth": 2
          }
         }
        },
        "title": {
         "text": "🧠 LSTM Prediction: INVALID (p = 0.00) — NuSMV Result: SATISFIED"
        },
        "xaxis": {
         "autorange": true,
         "range": [
          -1.1438679245283017,
          1.1438679245283019
         ],
         "showgrid": false,
         "type": "linear",
         "visible": false,
         "zeroline": false
        },
        "yaxis": {
         "autorange": true,
         "range": [
          -1.2539824890690507,
          1.2539824890690512
         ],
         "showgrid": false,
         "type": "linear",
         "visible": false,
         "zeroline": false
        }
       }
      },
      "image/png": "[encoded data removed]"
     },
     "metadata": {},
     "output_type": "display_data"
    },
    {
     "name": "stdout",
     "output_type": "stream",
     "text": [
      "\u001b[1m1/1\u001b[0m \u001b[32m━━━━━━━━━━━━━━━━━━━━\u001b[0m\u001b[37m\u001b[0m \u001b[1m0s\u001b[0m 47ms/step\n",
      "❌ La propriété est FAUSSE sur le chemin décrit dans generated_path.smv\n",
      "❌ Violation trouvée, arrêt vérification\n"
     ]
    },
    {
     "data": {
      "application/vnd.plotly.v1+json": {
       "config": {
        "plotlyServerURL": "https://plot.ly"
       },
       "data": [
        {
         "hoverinfo": "none",
         "line": {
          "color": "gray",
          "width": 1
         },
         "mode": "lines",
         "type": "scatter",
         "x": [
          -0.8238391610010021,
          -0.5682154018326923,
          null,
          -0.5682154018326923,
          -0.08452540609888799,
          null,
          -0.08452540609888799,
          0.47657996893258286,
          null,
          0.47657996893258286,
          1,
          null
         ],
         "y": [
          -0.25047079776193887,
          0.09905641878756173,
          null,
          0.09905641878756173,
          0.17619504175509149,
          null,
          0.17619504175509149,
          0.05894762251030648,
          null,
          0.05894762251030648,
          -0.08372828529102082,
          null
         ]
        },
        {
         "hoverinfo": "text",
         "marker": {
          "color": [
           "blue",
           "blue",
           "blue",
           "blue",
           "blue"
          ],
          "line": {
           "width": 2
          },
          "size": 22
         },
         "mode": "markers+text",
         "text": [
          "alt=landed | cmd=up | st=up | lkd=TRUE<br>LSTM prob: 0.00",
          "alt=descent | cmd=up | st=up | lkd=FALSE<br>LSTM prob: 0.00",
          "alt=landed | cmd=down | st=down | lkd=FALSE<br>LSTM prob: 0.00",
          "alt=cruise | cmd=up | st=down | lkd=TRUE<br>LSTM prob: 0.00",
          "alt=descent | cmd=down | st=up | lkd=FALSE<br>LSTM prob: 0.00"
         ],
         "textposition": "bottom center",
         "type": "scatter",
         "x": [
          -0.8238391610010021,
          -0.5682154018326923,
          -0.08452540609888799,
          0.47657996893258286,
          1
         ],
         "y": [
          -0.25047079776193887,
          0.09905641878756173,
          0.17619504175509149,
          0.05894762251030648,
          -0.08372828529102082
         ]
        }
       ],
       "layout": {
        "annotations": [
         {
          "align": "left",
          "font": {
           "size": 12
          },
          "showarrow": false,
          "text": "Node colors:<br>🟢 Green = True Positive (Valid & Satisfied)<br>🔵 Blue = True Negative (Invalid & Violated)<br>🔴 Red = False Positive (Predicted Valid, Actually Violated)<br>🟠 Orange = False Negative (Predicted Invalid, Actually Satisfied)",
          "x": 0.01,
          "xref": "paper",
          "y": -0.2,
          "yref": "paper"
         }
        ],
        "autosize": true,
        "hovermode": "closest",
        "margin": {
         "b": 60,
         "l": 10,
         "r": 10,
         "t": 60
        },
        "showlegend": false,
        "template": {
         "data": {
          "bar": [
           {
            "error_x": {
             "color": "#2a3f5f"
            },
            "error_y": {
             "color": "#2a3f5f"
            },
            "marker": {
             "line": {
              "color": "#E5ECF6",
              "width": 0.5
             },
             "pattern": {
              "fillmode": "overlay",
              "size": 10,
              "solidity": 0.2
             }
            },
            "type": "bar"
           }
          ],
          "barpolar": [
           {
            "marker": {
             "line": {
              "color": "#E5ECF6",
              "width": 0.5
             },
             "pattern": {
              "fillmode": "overlay",
              "size": 10,
              "solidity": 0.2
             }
            },
            "type": "barpolar"
           }
          ],
          "carpet": [
           {
            "aaxis": {
             "endlinecolor": "#2a3f5f",
             "gridcolor": "white",
             "linecolor": "white",
             "minorgridcolor": "white",
             "startlinecolor": "#2a3f5f"
            },
            "baxis": {
             "endlinecolor": "#2a3f5f",
             "gridcolor": "white",
             "linecolor": "white",
             "minorgridcolor": "white",
             "startlinecolor": "#2a3f5f"
            },
            "type": "carpet"
           }
          ],
          "choropleth": [
           {
            "colorbar": {
             "outlinewidth": 0,
             "ticks": ""
            },
            "type": "choropleth"
           }
          ],
          "contour": [
           {
            "colorbar": {
             "outlinewidth": 0,
             "ticks": ""
            },
            "colorscale": [
             [
              0,
              "#0d0887"
             ],
             [
              0.1111111111111111,
              "#46039f"
             ],
             [
              0.2222222222222222,
              "#7201a8"
             ],
             [
              0.3333333333333333,
              "#9c179e"
             ],
             [
              0.4444444444444444,
              "#bd3786"
             ],
             [
              0.5555555555555556,
              "#d8576b"
             ],
             [
              0.6666666666666666,
              "#ed7953"
             ],
             [
              0.7777777777777778,
              "#fb9f3a"
             ],
             [
              0.8888888888888888,
              "#fdca26"
             ],
             [
              1,
              "#f0f921"
             ]
            ],
            "type": "contour"
           }
          ],
          "contourcarpet": [
           {
            "colorbar": {
             "outlinewidth": 0,
             "ticks": ""
            },
            "type": "contourcarpet"
           }
          ],
          "heatmap": [
           {
            "colorbar": {
             "outlinewidth": 0,
             "ticks": ""
            },
            "colorscale": [
             [
              0,
              "#0d0887"
             ],
             [
              0.1111111111111111,
              "#46039f"
             ],
             [
              0.2222222222222222,
              "#7201a8"
             ],
             [
              0.3333333333333333,
              "#9c179e"
             ],
             [
              0.4444444444444444,
              "#bd3786"
             ],
             [
              0.5555555555555556,
              "#d8576b"
             ],
             [
              0.6666666666666666,
              "#ed7953"
             ],
             [
              0.7777777777777778,
              "#fb9f3a"
             ],
             [
              0.8888888888888888,
              "#fdca26"
             ],
             [
              1,
              "#f0f921"
             ]
            ],
            "type": "heatmap"
           }
          ],
          "histogram": [
           {
            "marker": {
             "pattern": {
              "fillmode": "overlay",
              "size": 10,
              "solidity": 0.2
             }
            },
            "type": "histogram"
           }
          ],
          "histogram2d": [
           {
            "colorbar": {
             "outlinewidth": 0,
             "ticks": ""
            },
            "colorscale": [
             [
              0,
              "#0d0887"
             ],
             [
              0.1111111111111111,
              "#46039f"
             ],
             [
              0.2222222222222222,
              "#7201a8"
             ],
             [
              0.3333333333333333,
              "#9c179e"
             ],
             [
              0.4444444444444444,
              "#bd3786"
             ],
             [
              0.5555555555555556,
              "#d8576b"
             ],
             [
              0.6666666666666666,
              "#ed7953"
             ],
             [
              0.7777777777777778,
              "#fb9f3a"
             ],
             [
              0.8888888888888888,
              "#fdca26"
             ],
             [
              1,
              "#f0f921"
             ]
            ],
            "type": "histogram2d"
           }
          ],
          "histogram2dcontour": [
           {
            "colorbar": {
             "outlinewidth": 0,
             "ticks": ""
            },
            "colorscale": [
             [
              0,
              "#0d0887"
             ],
             [
              0.1111111111111111,
              "#46039f"
             ],
             [
              0.2222222222222222,
              "#7201a8"
             ],
             [
              0.3333333333333333,
              "#9c179e"
             ],
             [
              0.4444444444444444,
              "#bd3786"
             ],
             [
              0.5555555555555556,
              "#d8576b"
             ],
             [
              0.6666666666666666,
              "#ed7953"
             ],
             [
              0.7777777777777778,
              "#fb9f3a"
             ],
             [
              0.8888888888888888,
              "#fdca26"
             ],
             [
              1,
              "#f0f921"
             ]
            ],
            "type": "histogram2dcontour"
           }
          ],
          "mesh3d": [
           {
            "colorbar": {
             "outlinewidth": 0,
             "ticks": ""
            },
            "type": "mesh3d"
           }
          ],
          "parcoords": [
           {
            "line": {
             "colorbar": {
              "outlinewidth": 0,
              "ticks": ""
             }
            },
            "type": "parcoords"
           }
          ],
          "pie": [
           {
            "automargin": true,
            "type": "pie"
           }
          ],
          "scatter": [
           {
            "fillpattern": {
             "fillmode": "overlay",
             "size": 10,
             "solidity": 0.2
            },
            "type": "scatter"
           }
          ],
          "scatter3d": [
           {
            "line": {
             "colorbar": {
              "outlinewidth": 0,
              "ticks": ""
             }
            },
            "marker": {
             "colorbar": {
              "outlinewidth": 0,
              "ticks": ""
             }
            },
            "type": "scatter3d"
           }
          ],
          "scattercarpet": [
           {
            "marker": {
             "colorbar": {
              "outlinewidth": 0,
              "ticks": ""
             }
            },
            "type": "scattercarpet"
           }
          ],
          "scattergeo": [
           {
            "marker": {
             "colorbar": {
              "outlinewidth": 0,
              "ticks": ""
             }
            },
            "type": "scattergeo"
           }
          ],
          "scattergl": [
           {
            "marker": {
             "colorbar": {
              "outlinewidth": 0,
              "ticks": ""
             }
            },
            "type": "scattergl"
           }
          ],
          "scattermap": [
           {
            "marker": {
             "colorbar": {
              "outlinewidth": 0,
              "ticks": ""
             }
            },
            "type": "scattermap"
           }
          ],
          "scattermapbox": [
           {
            "marker": {
             "colorbar": {
              "outlinewidth": 0,
              "ticks": ""
             }
            },
            "type": "scattermapbox"
           }
          ],
          "scatterpolar": [
           {
            "marker": {
             "colorbar": {
              "outlinewidth": 0,
              "ticks": ""
             }
            },
            "type": "scatterpolar"
           }
          ],
          "scatterpolargl": [
           {
            "marker": {
             "colorbar": {
              "outlinewidth": 0,
              "ticks": ""
             }
            },
            "type": "scatterpolargl"
           }
          ],
          "scatterternary": [
           {
            "marker": {
             "colorbar": {
              "outlinewidth": 0,
              "ticks": ""
             }
            },
            "type": "scatterternary"
           }
          ],
          "surface": [
           {
            "colorbar": {
             "outlinewidth": 0,
             "ticks": ""
            },
            "colorscale": [
             [
              0,
              "#0d0887"
             ],
             [
              0.1111111111111111,
              "#46039f"
             ],
             [
              0.2222222222222222,
              "#7201a8"
             ],
             [
              0.3333333333333333,
              "#9c179e"
             ],
             [
              0.4444444444444444,
              "#bd3786"
             ],
             [
              0.5555555555555556,
              "#d8576b"
             ],
             [
              0.6666666666666666,
              "#ed7953"
             ],
             [
              0.7777777777777778,
              "#fb9f3a"
             ],
             [
              0.8888888888888888,
              "#fdca26"
             ],
             [
              1,
              "#f0f921"
             ]
            ],
            "type": "surface"
           }
          ],
          "table": [
           {
            "cells": {
             "fill": {
              "color": "#EBF0F8"
             },
             "line": {
              "color": "white"
             }
            },
            "header": {
             "fill": {
              "color": "#C8D4E3"
             },
             "line": {
              "color": "white"
             }
            },
            "type": "table"
           }
          ]
         },
         "layout": {
          "annotationdefaults": {
           "arrowcolor": "#2a3f5f",
           "arrowhead": 0,
           "arrowwidth": 1
          },
          "autotypenumbers": "strict",
          "coloraxis": {
           "colorbar": {
            "outlinewidth": 0,
            "ticks": ""
           }
          },
          "colorscale": {
           "diverging": [
            [
             0,
             "#8e0152"
            ],
            [
             0.1,
             "#c51b7d"
            ],
            [
             0.2,
             "#de77ae"
            ],
            [
             0.3,
             "#f1b6da"
            ],
            [
             0.4,
             "#fde0ef"
            ],
            [
             0.5,
             "#f7f7f7"
            ],
            [
             0.6,
             "#e6f5d0"
            ],
            [
             0.7,
             "#b8e186"
            ],
            [
             0.8,
             "#7fbc41"
            ],
            [
             0.9,
             "#4d9221"
            ],
            [
             1,
             "#276419"
            ]
           ],
           "sequential": [
            [
             0,
             "#0d0887"
            ],
            [
             0.1111111111111111,
             "#46039f"
            ],
            [
             0.2222222222222222,
             "#7201a8"
            ],
            [
             0.3333333333333333,
             "#9c179e"
            ],
            [
             0.4444444444444444,
             "#bd3786"
            ],
            [
             0.5555555555555556,
             "#d8576b"
            ],
            [
             0.6666666666666666,
             "#ed7953"
            ],
            [
             0.7777777777777778,
             "#fb9f3a"
            ],
            [
             0.8888888888888888,
             "#fdca26"
            ],
            [
             1,
             "#f0f921"
            ]
           ],
           "sequentialminus": [
            [
             0,
             "#0d0887"
            ],
            [
             0.1111111111111111,
             "#46039f"
            ],
            [
             0.2222222222222222,
             "#7201a8"
            ],
            [
             0.3333333333333333,
             "#9c179e"
            ],
            [
             0.4444444444444444,
             "#bd3786"
            ],
            [
             0.5555555555555556,
             "#d8576b"
            ],
            [
             0.6666666666666666,
             "#ed7953"
            ],
            [
             0.7777777777777778,
             "#fb9f3a"
            ],
            [
             0.8888888888888888,
             "#fdca26"
            ],
            [
             1,
             "#f0f921"
            ]
           ]
          },
          "colorway": [
           "#636efa",
           "#EF553B",
           "#00cc96",
           "#ab63fa",
           "#FFA15A",
           "#19d3f3",
           "#FF6692",
           "#B6E880",
           "#FF97FF",
           "#FECB52"
          ],
          "font": {
           "color": "#2a3f5f"
          },
          "geo": {
           "bgcolor": "white",
           "lakecolor": "white",
           "landcolor": "#E5ECF6",
           "showlakes": true,
           "showland": true,
           "subunitcolor": "white"
          },
          "hoverlabel": {
           "align": "left"
          },
          "hovermode": "closest",
          "mapbox": {
           "style": "light"
          },
          "paper_bgcolor": "white",
          "plot_bgcolor": "#E5ECF6",
          "polar": {
           "angularaxis": {
            "gridcolor": "white",
            "linecolor": "white",
            "ticks": ""
           },
           "bgcolor": "#E5ECF6",
           "radialaxis": {
            "gridcolor": "white",
            "linecolor": "white",
            "ticks": ""
           }
          },
          "scene": {
           "xaxis": {
            "backgroundcolor": "#E5ECF6",
            "gridcolor": "white",
            "gridwidth": 2,
            "linecolor": "white",
            "showbackground": true,
            "ticks": "",
            "zerolinecolor": "white"
           },
           "yaxis": {
            "backgroundcolor": "#E5ECF6",
            "gridcolor": "white",
            "gridwidth": 2,
            "linecolor": "white",
            "showbackground": true,
            "ticks": "",
            "zerolinecolor": "white"
           },
           "zaxis": {
            "backgroundcolor": "#E5ECF6",
            "gridcolor": "white",
            "gridwidth": 2,
            "linecolor": "white",
            "showbackground": true,
            "ticks": "",
            "zerolinecolor": "white"
           }
          },
          "shapedefaults": {
           "line": {
            "color": "#2a3f5f"
           }
          },
          "ternary": {
           "aaxis": {
            "gridcolor": "white",
            "linecolor": "white",
            "ticks": ""
           },
           "baxis": {
            "gridcolor": "white",
            "linecolor": "white",
            "ticks": ""
           },
           "bgcolor": "#E5ECF6",
           "caxis": {
            "gridcolor": "white",
            "linecolor": "white",
            "ticks": ""
           }
          },
          "title": {
           "x": 0.05
          },
          "xaxis": {
           "automargin": true,
           "gridcolor": "white",
           "linecolor": "white",
           "ticks": "",
           "title": {
            "standoff": 15
           },
           "zerolinecolor": "white",
           "zerolinewidth": 2
          },
          "yaxis": {
           "automargin": true,
           "gridcolor": "white",
           "linecolor": "white",
           "ticks": "",
           "title": {
            "standoff": 15
           },
           "zerolinecolor": "white",
           "zerolinewidth": 2
          }
         }
        },
        "title": {
         "text": "🧠 LSTM Prediction: INVALID (p = 0.00) — NuSMV Result: VIOLATED"
        },
        "xaxis": {
         "autorange": true,
         "range": [
          -0.9550351383843289,
          1.1311959773833267
         ],
         "showgrid": false,
         "type": "linear",
         "visible": false,
         "zeroline": false
        },
        "yaxis": {
         "autorange": true,
         "range": [
          -0.3087553885712945,
          0.2344796325644471
         ],
         "showgrid": false,
         "type": "linear",
         "visible": false,
         "zeroline": false
        }
       }
      },
      "image/png": "[encoded data removed]"
     },
     "metadata": {},
     "output_type": "display_data"
    },
    {
     "name": "stdout",
     "output_type": "stream",
     "text": [
      "🔍 proba = 5.9961993e-05   — pred = 0\n",
      "✅ Patch proposé généré dans : patched_model.smv\n",
      "✔️  La propriété est VRAIE sur le chemin décrit dans patched_model.smv\n",
      "r11 [[2, 0, 0, 1], [1, 0, 1, 0], [1, 0, 1, 1], [1, 0, 1, 1], [1, 0, 1, 1]]\n",
      "✔️  La propriété est VRAIE sur le chemin décrit dans generated1_path.smv\n",
      "correction\n"
     ]
    },
    {
     "data": {
      "application/vnd.plotly.v1+json": {
       "config": {
        "plotlyServerURL": "https://plot.ly"
       },
       "data": [
        {
         "hoverinfo": "none",
         "line": {
          "color": "#888",
          "width": 2
         },
         "mode": "lines",
         "type": "scatter",
         "x": [
          0,
          1,
          null,
          0,
          1,
          null,
          1,
          2,
          null,
          1,
          2,
          null,
          2,
          3,
          null,
          2,
          3,
          null,
          3,
          4,
          null,
          3,
          4,
          null
         ],
         "y": [
          1,
          1,
          null,
          0,
          0,
          null,
          1,
          1,
          null,
          0,
          0,
          null,
          1,
          1,
          null,
          0,
          0,
          null,
          1,
          1,
          null,
          0,
          0,
          null
         ]
        },
        {
         "hoverinfo": "text",
         "marker": {
          "color": [
           "crimson",
           "forestgreen",
           "crimson",
           "forestgreen",
           "crimson",
           "forestgreen",
           "crimson",
           "forestgreen",
           "crimson",
           "forestgreen"
          ],
          "line": {
           "width": 2
          },
          "size": 30
         },
         "mode": "markers+text",
         "text": [
          "I0: landed,up,up,TRUE",
          "F0: landed,up,up,TRUE",
          "I1: descent,up,up,FALSE",
          "F1: descent,up,moving,FALSE",
          "I2: landed,down,down,FALSE",
          "F2: descent,up,moving,TRUE",
          "I3: cruise,up,down,TRUE",
          "F3: descent,up,moving,TRUE",
          "I4: descent,down,up,FALSE",
          "F4: descent,up,moving,TRUE"
         ],
         "textposition": "bottom center",
         "type": "scatter",
         "x": [
          0,
          0,
          1,
          1,
          2,
          2,
          3,
          3,
          4,
          4
         ],
         "y": [
          1,
          0,
          1,
          0,
          1,
          0,
          1,
          0,
          1,
          0
         ]
        }
       ],
       "layout": {
        "autosize": true,
        "hovermode": "closest",
        "margin": {
         "b": 20,
         "l": 5,
         "r": 5,
         "t": 40
        },
        "showlegend": false,
        "template": {
         "data": {
          "bar": [
           {
            "error_x": {
             "color": "#2a3f5f"
            },
            "error_y": {
             "color": "#2a3f5f"
            },
            "marker": {
             "line": {
              "color": "#E5ECF6",
              "width": 0.5
             },
             "pattern": {
              "fillmode": "overlay",
              "size": 10,
              "solidity": 0.2
             }
            },
            "type": "bar"
           }
          ],
          "barpolar": [
           {
            "marker": {
             "line": {
              "color": "#E5ECF6",
              "width": 0.5
             },
             "pattern": {
              "fillmode": "overlay",
              "size": 10,
              "solidity": 0.2
             }
            },
            "type": "barpolar"
           }
          ],
          "carpet": [
           {
            "aaxis": {
             "endlinecolor": "#2a3f5f",
             "gridcolor": "white",
             "linecolor": "white",
             "minorgridcolor": "white",
             "startlinecolor": "#2a3f5f"
            },
            "baxis": {
             "endlinecolor": "#2a3f5f",
             "gridcolor": "white",
             "linecolor": "white",
             "minorgridcolor": "white",
             "startlinecolor": "#2a3f5f"
            },
            "type": "carpet"
           }
          ],
          "choropleth": [
           {
            "colorbar": {
             "outlinewidth": 0,
             "ticks": ""
            },
            "type": "choropleth"
           }
          ],
          "contour": [
           {
            "colorbar": {
             "outlinewidth": 0,
             "ticks": ""
            },
            "colorscale": [
             [
              0,
              "#0d0887"
             ],
             [
              0.1111111111111111,
              "#46039f"
             ],
             [
              0.2222222222222222,
              "#7201a8"
             ],
             [
              0.3333333333333333,
              "#9c179e"
             ],
             [
              0.4444444444444444,
              "#bd3786"
             ],
             [
              0.5555555555555556,
              "#d8576b"
             ],
             [
              0.6666666666666666,
              "#ed7953"
             ],
             [
              0.7777777777777778,
              "#fb9f3a"
             ],
             [
              0.8888888888888888,
              "#fdca26"
             ],
             [
              1,
              "#f0f921"
             ]
            ],
            "type": "contour"
           }
          ],
          "contourcarpet": [
           {
            "colorbar": {
             "outlinewidth": 0,
             "ticks": ""
            },
            "type": "contourcarpet"
           }
          ],
          "heatmap": [
           {
            "colorbar": {
             "outlinewidth": 0,
             "ticks": ""
            },
            "colorscale": [
             [
              0,
              "#0d0887"
             ],
             [
              0.1111111111111111,
              "#46039f"
             ],
             [
              0.2222222222222222,
              "#7201a8"
             ],
             [
              0.3333333333333333,
              "#9c179e"
             ],
             [
              0.4444444444444444,
              "#bd3786"
             ],
             [
              0.5555555555555556,
              "#d8576b"
             ],
             [
              0.6666666666666666,
              "#ed7953"
             ],
             [
              0.7777777777777778,
              "#fb9f3a"
             ],
             [
              0.8888888888888888,
              "#fdca26"
             ],
             [
              1,
              "#f0f921"
             ]
            ],
            "type": "heatmap"
           }
          ],
          "histogram": [
           {
            "marker": {
             "pattern": {
              "fillmode": "overlay",
              "size": 10,
              "solidity": 0.2
             }
            },
            "type": "histogram"
           }
          ],
          "histogram2d": [
           {
            "colorbar": {
             "outlinewidth": 0,
             "ticks": ""
            },
            "colorscale": [
             [
              0,
              "#0d0887"
             ],
             [
              0.1111111111111111,
              "#46039f"
             ],
             [
              0.2222222222222222,
              "#7201a8"
             ],
             [
              0.3333333333333333,
              "#9c179e"
             ],
             [
              0.4444444444444444,
              "#bd3786"
             ],
             [
              0.5555555555555556,
              "#d8576b"
             ],
             [
              0.6666666666666666,
              "#ed7953"
             ],
             [
              0.7777777777777778,
              "#fb9f3a"
             ],
             [
              0.8888888888888888,
              "#fdca26"
             ],
             [
              1,
              "#f0f921"
             ]
            ],
            "type": "histogram2d"
           }
          ],
          "histogram2dcontour": [
           {
            "colorbar": {
             "outlinewidth": 0,
             "ticks": ""
            },
            "colorscale": [
             [
              0,
              "#0d0887"
             ],
             [
              0.1111111111111111,
              "#46039f"
             ],
             [
              0.2222222222222222,
              "#7201a8"
             ],
             [
              0.3333333333333333,
              "#9c179e"
             ],
             [
              0.4444444444444444,
              "#bd3786"
             ],
             [
              0.5555555555555556,
              "#d8576b"
             ],
             [
              0.6666666666666666,
              "#ed7953"
             ],
             [
              0.7777777777777778,
              "#fb9f3a"
             ],
             [
              0.8888888888888888,
              "#fdca26"
             ],
             [
              1,
              "#f0f921"
             ]
            ],
            "type": "histogram2dcontour"
           }
          ],
          "mesh3d": [
           {
            "colorbar": {
             "outlinewidth": 0,
             "ticks": ""
            },
            "type": "mesh3d"
           }
          ],
          "parcoords": [
           {
            "line": {
             "colorbar": {
              "outlinewidth": 0,
              "ticks": ""
             }
            },
            "type": "parcoords"
           }
          ],
          "pie": [
           {
            "automargin": true,
            "type": "pie"
           }
          ],
          "scatter": [
           {
            "fillpattern": {
             "fillmode": "overlay",
             "size": 10,
             "solidity": 0.2
            },
            "type": "scatter"
           }
          ],
          "scatter3d": [
           {
            "line": {
             "colorbar": {
              "outlinewidth": 0,
              "ticks": ""
             }
            },
            "marker": {
             "colorbar": {
              "outlinewidth": 0,
              "ticks": ""
             }
            },
            "type": "scatter3d"
           }
          ],
          "scattercarpet": [
           {
            "marker": {
             "colorbar": {
              "outlinewidth": 0,
              "ticks": ""
             }
            },
            "type": "scattercarpet"
           }
          ],
          "scattergeo": [
           {
            "marker": {
             "colorbar": {
              "outlinewidth": 0,
              "ticks": ""
             }
            },
            "type": "scattergeo"
           }
          ],
          "scattergl": [
           {
            "marker": {
             "colorbar": {
              "outlinewidth": 0,
              "ticks": ""
             }
            },
            "type": "scattergl"
           }
          ],
          "scattermap": [
           {
            "marker": {
             "colorbar": {
              "outlinewidth": 0,
              "ticks": ""
             }
            },
            "type": "scattermap"
           }
          ],
          "scattermapbox": [
           {
            "marker": {
             "colorbar": {
              "outlinewidth": 0,
              "ticks": ""
             }
            },
            "type": "scattermapbox"
           }
          ],
          "scatterpolar": [
           {
            "marker": {
             "colorbar": {
              "outlinewidth": 0,
              "ticks": ""
             }
            },
            "type": "scatterpolar"
           }
          ],
          "scatterpolargl": [
           {
            "marker": {
             "colorbar": {
              "outlinewidth": 0,
              "ticks": ""
             }
            },
            "type": "scatterpolargl"
           }
          ],
          "scatterternary": [
           {
            "marker": {
             "colorbar": {
              "outlinewidth": 0,
              "ticks": ""
             }
            },
            "type": "scatterternary"
           }
          ],
          "surface": [
           {
            "colorbar": {
             "outlinewidth": 0,
             "ticks": ""
            },
            "colorscale": [
             [
              0,
              "#0d0887"
             ],
             [
              0.1111111111111111,
              "#46039f"
             ],
             [
              0.2222222222222222,
              "#7201a8"
             ],
             [
              0.3333333333333333,
              "#9c179e"
             ],
             [
              0.4444444444444444,
              "#bd3786"
             ],
             [
              0.5555555555555556,
              "#d8576b"
             ],
             [
              0.6666666666666666,
              "#ed7953"
             ],
             [
              0.7777777777777778,
              "#fb9f3a"
             ],
             [
              0.8888888888888888,
              "#fdca26"
             ],
             [
              1,
              "#f0f921"
             ]
            ],
            "type": "surface"
           }
          ],
          "table": [
           {
            "cells": {
             "fill": {
              "color": "#EBF0F8"
             },
             "line": {
              "color": "white"
             }
            },
            "header": {
             "fill": {
              "color": "#C8D4E3"
             },
             "line": {
              "color": "white"
             }
            },
            "type": "table"
           }
          ]
         },
         "layout": {
          "annotationdefaults": {
           "arrowcolor": "#2a3f5f",
           "arrowhead": 0,
           "arrowwidth": 1
          },
          "autotypenumbers": "strict",
          "coloraxis": {
           "colorbar": {
            "outlinewidth": 0,
            "ticks": ""
           }
          },
          "colorscale": {
           "diverging": [
            [
             0,
             "#8e0152"
            ],
            [
             0.1,
             "#c51b7d"
            ],
            [
             0.2,
             "#de77ae"
            ],
            [
             0.3,
             "#f1b6da"
            ],
            [
             0.4,
             "#fde0ef"
            ],
            [
             0.5,
             "#f7f7f7"
            ],
            [
             0.6,
             "#e6f5d0"
            ],
            [
             0.7,
             "#b8e186"
            ],
            [
             0.8,
             "#7fbc41"
            ],
            [
             0.9,
             "#4d9221"
            ],
            [
             1,
             "#276419"
            ]
           ],
           "sequential": [
            [
             0,
             "#0d0887"
            ],
            [
             0.1111111111111111,
             "#46039f"
            ],
            [
             0.2222222222222222,
             "#7201a8"
            ],
            [
             0.3333333333333333,
             "#9c179e"
            ],
            [
             0.4444444444444444,
             "#bd3786"
            ],
            [
             0.5555555555555556,
             "#d8576b"
            ],
            [
             0.6666666666666666,
             "#ed7953"
            ],
            [
             0.7777777777777778,
             "#fb9f3a"
            ],
            [
             0.8888888888888888,
             "#fdca26"
            ],
            [
             1,
             "#f0f921"
            ]
           ],
           "sequentialminus": [
            [
             0,
             "#0d0887"
            ],
            [
             0.1111111111111111,
             "#46039f"
            ],
            [
             0.2222222222222222,
             "#7201a8"
            ],
            [
             0.3333333333333333,
             "#9c179e"
            ],
            [
             0.4444444444444444,
             "#bd3786"
            ],
            [
             0.5555555555555556,
             "#d8576b"
            ],
            [
             0.6666666666666666,
             "#ed7953"
            ],
            [
             0.7777777777777778,
             "#fb9f3a"
            ],
            [
             0.8888888888888888,
             "#fdca26"
            ],
            [
             1,
             "#f0f921"
            ]
           ]
          },
          "colorway": [
           "#636efa",
           "#EF553B",
           "#00cc96",
           "#ab63fa",
           "#FFA15A",
           "#19d3f3",
           "#FF6692",
           "#B6E880",
           "#FF97FF",
           "#FECB52"
          ],
          "font": {
           "color": "#2a3f5f"
          },
          "geo": {
           "bgcolor": "white",
           "lakecolor": "white",
           "landcolor": "#E5ECF6",
           "showlakes": true,
           "showland": true,
           "subunitcolor": "white"
          },
          "hoverlabel": {
           "align": "left"
          },
          "hovermode": "closest",
          "mapbox": {
           "style": "light"
          },
          "paper_bgcolor": "white",
          "plot_bgcolor": "#E5ECF6",
          "polar": {
           "angularaxis": {
            "gridcolor": "white",
            "linecolor": "white",
            "ticks": ""
           },
           "bgcolor": "#E5ECF6",
           "radialaxis": {
            "gridcolor": "white",
            "linecolor": "white",
            "ticks": ""
           }
          },
          "scene": {
           "xaxis": {
            "backgroundcolor": "#E5ECF6",
            "gridcolor": "white",
            "gridwidth": 2,
            "linecolor": "white",
            "showbackground": true,
            "ticks": "",
            "zerolinecolor": "white"
           },
           "yaxis": {
            "backgroundcolor": "#E5ECF6",
            "gridcolor": "white",
            "gridwidth": 2,
            "linecolor": "white",
            "showbackground": true,
            "ticks": "",
            "zerolinecolor": "white"
           },
           "zaxis": {
            "backgroundcolor": "#E5ECF6",
            "gridcolor": "white",
            "gridwidth": 2,
            "linecolor": "white",
            "showbackground": true,
            "ticks": "",
            "zerolinecolor": "white"
           }
          },
          "shapedefaults": {
           "line": {
            "color": "#2a3f5f"
           }
          },
          "ternary": {
           "aaxis": {
            "gridcolor": "white",
            "linecolor": "white",
            "ticks": ""
           },
           "baxis": {
            "gridcolor": "white",
            "linecolor": "white",
            "ticks": ""
           },
           "bgcolor": "#E5ECF6",
           "caxis": {
            "gridcolor": "white",
            "linecolor": "white",
            "ticks": ""
           }
          },
          "title": {
           "x": 0.05
          },
          "xaxis": {
           "automargin": true,
           "gridcolor": "white",
           "linecolor": "white",
           "ticks": "",
           "title": {
            "standoff": 15
           },
           "zerolinecolor": "white",
           "zerolinewidth": 2
          },
          "yaxis": {
           "automargin": true,
           "gridcolor": "white",
           "linecolor": "white",
           "ticks": "",
           "title": {
            "standoff": 15
           },
           "zerolinecolor": "white",
           "zerolinewidth": 2
          }
         }
        },
        "title": {
         "font": {
          "size": 16
         },
         "text": "Comparison: Invalid vs Corrected Path"
        },
        "xaxis": {
         "autorange": true,
         "range": [
          -0.3135064081498521,
          4.313506408149852
         ],
         "showgrid": false,
         "type": "linear",
         "zeroline": false
        },
        "yaxis": {
         "autorange": true,
         "range": [
          -0.14550949913644212,
          1.145509499136442
         ],
         "showgrid": false,
         "type": "linear",
         "zeroline": false
        }
       }
      },
      "image/png": "[encoded data removed]"
     },
     "metadata": {},
     "output_type": "display_data"
    },
    {
     "data": {
      "application/vnd.plotly.v1+json": {
       "config": {
        "plotlyServerURL": "https://plot.ly"
       },
       "data": [
        {
         "hoverinfo": "none",
         "line": {
          "color": "gray",
          "width": 1
         },
         "mode": "lines",
         "type": "scatter",
         "x": [
          0.9388215826153623,
          0.06117841738463779,
          null,
          0.06117841738463779,
          -1,
          null,
          -1,
          -1,
          null
         ],
         "y": [
          0.365443926008201,
          -0.015728228099694895,
          null,
          -0.015728228099694895,
          -0.34971569790850576,
          null,
          -0.34971569790850576,
          -0.34971569790850576,
          null
         ]
        },
        {
         "hoverinfo": "text",
         "marker": {
          "color": [
           "green",
           "green",
           "green"
          ],
          "line": {
           "width": 2
          },
          "size": 22
         },
         "mode": "markers+text",
         "text": [
          "alt=landed | cmd=up | st=up | lkd=TRUE<br>LSTM prob: 1.00",
          "alt=descent | cmd=up | st=moving | lkd=FALSE<br>LSTM prob: 1.00",
          "alt=descent | cmd=up | st=moving | lkd=TRUE<br>LSTM prob: 1.00"
         ],
         "textposition": "bottom center",
         "type": "scatter",
         "x": [
          0.9388215826153623,
          0.06117841738463779,
          -1
         ],
         "y": [
          0.365443926008201,
          -0.015728228099694895,
          -0.34971569790850576
         ]
        }
       ],
       "layout": {
        "annotations": [
         {
          "align": "left",
          "font": {
           "size": 12
          },
          "showarrow": false,
          "text": "Node colors:<br>🟢 Green = True Positive (Valid & Satisfied)<br>🔵 Blue = True Negative (Invalid & Violated)<br>🔴 Red = False Positive (Predicted Valid, Actually Violated)<br>🟠 Orange = False Negative (Predicted Invalid, Actually Satisfied)",
          "x": 0.01,
          "xref": "paper",
          "y": -0.2,
          "yref": "paper"
         }
        ],
        "autosize": true,
        "hovermode": "closest",
        "margin": {
         "b": 60,
         "l": 10,
         "r": 10,
         "t": 60
        },
        "showlegend": false,
        "template": {
         "data": {
          "bar": [
           {
            "error_x": {
             "color": "#2a3f5f"
            },
            "error_y": {
             "color": "#2a3f5f"
            },
            "marker": {
             "line": {
              "color": "#E5ECF6",
              "width": 0.5
             },
             "pattern": {
              "fillmode": "overlay",
              "size": 10,
              "solidity": 0.2
             }
            },
            "type": "bar"
           }
          ],
          "barpolar": [
           {
            "marker": {
             "line": {
              "color": "#E5ECF6",
              "width": 0.5
             },
             "pattern": {
              "fillmode": "overlay",
              "size": 10,
              "solidity": 0.2
             }
            },
            "type": "barpolar"
           }
          ],
          "carpet": [
           {
            "aaxis": {
             "endlinecolor": "#2a3f5f",
             "gridcolor": "white",
             "linecolor": "white",
             "minorgridcolor": "white",
             "startlinecolor": "#2a3f5f"
            },
            "baxis": {
             "endlinecolor": "#2a3f5f",
             "gridcolor": "white",
             "linecolor": "white",
             "minorgridcolor": "white",
             "startlinecolor": "#2a3f5f"
            },
            "type": "carpet"
           }
          ],
          "choropleth": [
           {
            "colorbar": {
             "outlinewidth": 0,
             "ticks": ""
            },
            "type": "choropleth"
           }
          ],
          "contour": [
           {
            "colorbar": {
             "outlinewidth": 0,
             "ticks": ""
            },
            "colorscale": [
             [
              0,
              "#0d0887"
             ],
             [
              0.1111111111111111,
              "#46039f"
             ],
             [
              0.2222222222222222,
              "#7201a8"
             ],
             [
              0.3333333333333333,
              "#9c179e"
             ],
             [
              0.4444444444444444,
              "#bd3786"
             ],
             [
              0.5555555555555556,
              "#d8576b"
             ],
             [
              0.6666666666666666,
              "#ed7953"
             ],
             [
              0.7777777777777778,
              "#fb9f3a"
             ],
             [
              0.8888888888888888,
              "#fdca26"
             ],
             [
              1,
              "#f0f921"
             ]
            ],
            "type": "contour"
           }
          ],
          "contourcarpet": [
           {
            "colorbar": {
             "outlinewidth": 0,
             "ticks": ""
            },
            "type": "contourcarpet"
           }
          ],
          "heatmap": [
           {
            "colorbar": {
             "outlinewidth": 0,
             "ticks": ""
            },
            "colorscale": [
             [
              0,
              "#0d0887"
             ],
             [
              0.1111111111111111,
              "#46039f"
             ],
             [
              0.2222222222222222,
              "#7201a8"
             ],
             [
              0.3333333333333333,
              "#9c179e"
             ],
             [
              0.4444444444444444,
              "#bd3786"
             ],
             [
              0.5555555555555556,
              "#d8576b"
             ],
             [
              0.6666666666666666,
              "#ed7953"
             ],
             [
              0.7777777777777778,
              "#fb9f3a"
             ],
             [
              0.8888888888888888,
              "#fdca26"
             ],
             [
              1,
              "#f0f921"
             ]
            ],
            "type": "heatmap"
           }
          ],
          "histogram": [
           {
            "marker": {
             "pattern": {
              "fillmode": "overlay",
              "size": 10,
              "solidity": 0.2
             }
            },
            "type": "histogram"
           }
          ],
          "histogram2d": [
           {
            "colorbar": {
             "outlinewidth": 0,
             "ticks": ""
            },
            "colorscale": [
             [
              0,
              "#0d0887"
             ],
             [
              0.1111111111111111,
              "#46039f"
             ],
             [
              0.2222222222222222,
              "#7201a8"
             ],
             [
              0.3333333333333333,
              "#9c179e"
             ],
             [
              0.4444444444444444,
              "#bd3786"
             ],
             [
              0.5555555555555556,
              "#d8576b"
             ],
             [
              0.6666666666666666,
              "#ed7953"
             ],
             [
              0.7777777777777778,
              "#fb9f3a"
             ],
             [
              0.8888888888888888,
              "#fdca26"
             ],
             [
              1,
              "#f0f921"
             ]
            ],
            "type": "histogram2d"
           }
          ],
          "histogram2dcontour": [
           {
            "colorbar": {
             "outlinewidth": 0,
             "ticks": ""
            },
            "colorscale": [
             [
              0,
              "#0d0887"
             ],
             [
              0.1111111111111111,
              "#46039f"
             ],
             [
              0.2222222222222222,
              "#7201a8"
             ],
             [
              0.3333333333333333,
              "#9c179e"
             ],
             [
              0.4444444444444444,
              "#bd3786"
             ],
             [
              0.5555555555555556,
              "#d8576b"
             ],
             [
              0.6666666666666666,
              "#ed7953"
             ],
             [
              0.7777777777777778,
              "#fb9f3a"
             ],
             [
              0.8888888888888888,
              "#fdca26"
             ],
             [
              1,
              "#f0f921"
             ]
            ],
            "type": "histogram2dcontour"
           }
          ],
          "mesh3d": [
           {
            "colorbar": {
             "outlinewidth": 0,
             "ticks": ""
            },
            "type": "mesh3d"
           }
          ],
          "parcoords": [
           {
            "line": {
             "colorbar": {
              "outlinewidth": 0,
              "ticks": ""
             }
            },
            "type": "parcoords"
           }
          ],
          "pie": [
           {
            "automargin": true,
            "type": "pie"
           }
          ],
          "scatter": [
           {
            "fillpattern": {
             "fillmode": "overlay",
             "size": 10,
             "solidity": 0.2
            },
            "type": "scatter"
           }
          ],
          "scatter3d": [
           {
            "line": {
             "colorbar": {
              "outlinewidth": 0,
              "ticks": ""
             }
            },
            "marker": {
             "colorbar": {
              "outlinewidth": 0,
              "ticks": ""
             }
            },
            "type": "scatter3d"
           }
          ],
          "scattercarpet": [
           {
            "marker": {
             "colorbar": {
              "outlinewidth": 0,
              "ticks": ""
             }
            },
            "type": "scattercarpet"
           }
          ],
          "scattergeo": [
           {
            "marker": {
             "colorbar": {
              "outlinewidth": 0,
              "ticks": ""
             }
            },
            "type": "scattergeo"
           }
          ],
          "scattergl": [
           {
            "marker": {
             "colorbar": {
              "outlinewidth": 0,
              "ticks": ""
             }
            },
            "type": "scattergl"
           }
          ],
          "scattermap": [
           {
            "marker": {
             "colorbar": {
              "outlinewidth": 0,
              "ticks": ""
             }
            },
            "type": "scattermap"
           }
          ],
          "scattermapbox": [
           {
            "marker": {
             "colorbar": {
              "outlinewidth": 0,
              "ticks": ""
             }
            },
            "type": "scattermapbox"
           }
          ],
          "scatterpolar": [
           {
            "marker": {
             "colorbar": {
              "outlinewidth": 0,
              "ticks": ""
             }
            },
            "type": "scatterpolar"
           }
          ],
          "scatterpolargl": [
           {
            "marker": {
             "colorbar": {
              "outlinewidth": 0,
              "ticks": ""
             }
            },
            "type": "scatterpolargl"
           }
          ],
          "scatterternary": [
           {
            "marker": {
             "colorbar": {
              "outlinewidth": 0,
              "ticks": ""
             }
            },
            "type": "scatterternary"
           }
          ],
          "surface": [
           {
            "colorbar": {
             "outlinewidth": 0,
             "ticks": ""
            },
            "colorscale": [
             [
              0,
              "#0d0887"
             ],
             [
              0.1111111111111111,
              "#46039f"
             ],
             [
              0.2222222222222222,
              "#7201a8"
             ],
             [
              0.3333333333333333,
              "#9c179e"
             ],
             [
              0.4444444444444444,
              "#bd3786"
             ],
             [
              0.5555555555555556,
              "#d8576b"
             ],
             [
              0.6666666666666666,
              "#ed7953"
             ],
             [
              0.7777777777777778,
              "#fb9f3a"
             ],
             [
              0.8888888888888888,
              "#fdca26"
             ],
             [
              1,
              "#f0f921"
             ]
            ],
            "type": "surface"
           }
          ],
          "table": [
           {
            "cells": {
             "fill": {
              "color": "#EBF0F8"
             },
             "line": {
              "color": "white"
             }
            },
            "header": {
             "fill": {
              "color": "#C8D4E3"
             },
             "line": {
              "color": "white"
             }
            },
            "type": "table"
           }
          ]
         },
         "layout": {
          "annotationdefaults": {
           "arrowcolor": "#2a3f5f",
           "arrowhead": 0,
           "arrowwidth": 1
          },
          "autotypenumbers": "strict",
          "coloraxis": {
           "colorbar": {
            "outlinewidth": 0,
            "ticks": ""
           }
          },
          "colorscale": {
           "diverging": [
            [
             0,
             "#8e0152"
            ],
            [
             0.1,
             "#c51b7d"
            ],
            [
             0.2,
             "#de77ae"
            ],
            [
             0.3,
             "#f1b6da"
            ],
            [
             0.4,
             "#fde0ef"
            ],
            [
             0.5,
             "#f7f7f7"
            ],
            [
             0.6,
             "#e6f5d0"
            ],
            [
             0.7,
             "#b8e186"
            ],
            [
             0.8,
             "#7fbc41"
            ],
            [
             0.9,
             "#4d9221"
            ],
            [
             1,
             "#276419"
            ]
           ],
           "sequential": [
            [
             0,
             "#0d0887"
            ],
            [
             0.1111111111111111,
             "#46039f"
            ],
            [
             0.2222222222222222,
             "#7201a8"
            ],
            [
             0.3333333333333333,
             "#9c179e"
            ],
            [
             0.4444444444444444,
             "#bd3786"
            ],
            [
             0.5555555555555556,
             "#d8576b"
            ],
            [
             0.6666666666666666,
             "#ed7953"
            ],
            [
             0.7777777777777778,
             "#fb9f3a"
            ],
            [
             0.8888888888888888,
             "#fdca26"
            ],
            [
             1,
             "#f0f921"
            ]
           ],
           "sequentialminus": [
            [
             0,
             "#0d0887"
            ],
            [
             0.1111111111111111,
             "#46039f"
            ],
            [
             0.2222222222222222,
             "#7201a8"
            ],
            [
             0.3333333333333333,
             "#9c179e"
            ],
            [
             0.4444444444444444,
             "#bd3786"
            ],
            [
             0.5555555555555556,
             "#d8576b"
            ],
            [
             0.6666666666666666,
             "#ed7953"
            ],
            [
             0.7777777777777778,
             "#fb9f3a"
            ],
            [
             0.8888888888888888,
             "#fdca26"
            ],
            [
             1,
             "#f0f921"
            ]
           ]
          },
          "colorway": [
           "#636efa",
           "#EF553B",
           "#00cc96",
           "#ab63fa",
           "#FFA15A",
           "#19d3f3",
           "#FF6692",
           "#B6E880",
           "#FF97FF",
           "#FECB52"
          ],
          "font": {
           "color": "#2a3f5f"
          },
          "geo": {
           "bgcolor": "white",
           "lakecolor": "white",
           "landcolor": "#E5ECF6",
           "showlakes": true,
           "showland": true,
           "subunitcolor": "white"
          },
          "hoverlabel": {
           "align": "left"
          },
          "hovermode": "closest",
          "mapbox": {
           "style": "light"
          },
          "paper_bgcolor": "white",
          "plot_bgcolor": "#E5ECF6",
          "polar": {
           "angularaxis": {
            "gridcolor": "white",
            "linecolor": "white",
            "ticks": ""
           },
           "bgcolor": "#E5ECF6",
           "radialaxis": {
            "gridcolor": "white",
            "linecolor": "white",
            "ticks": ""
           }
          },
          "scene": {
           "xaxis": {
            "backgroundcolor": "#E5ECF6",
            "gridcolor": "white",
            "gridwidth": 2,
            "linecolor": "white",
            "showbackground": true,
            "ticks": "",
            "zerolinecolor": "white"
           },
           "yaxis": {
            "backgroundcolor": "#E5ECF6",
            "gridcolor": "white",
            "gridwidth": 2,
            "linecolor": "white",
            "showbackground": true,
            "ticks": "",
            "zerolinecolor": "white"
           },
           "zaxis": {
            "backgroundcolor": "#E5ECF6",
            "gridcolor": "white",
            "gridwidth": 2,
            "linecolor": "white",
            "showbackground": true,
            "ticks": "",
            "zerolinecolor": "white"
           }
          },
          "shapedefaults": {
           "line": {
            "color": "#2a3f5f"
           }
          },
          "ternary": {
           "aaxis": {
            "gridcolor": "white",
            "linecolor": "white",
            "ticks": ""
           },
           "baxis": {
            "gridcolor": "white",
            "linecolor": "white",
            "ticks": ""
           },
           "bgcolor": "#E5ECF6",
           "caxis": {
            "gridcolor": "white",
            "linecolor": "white",
            "ticks": ""
           }
          },
          "title": {
           "x": 0.05
          },
          "xaxis": {
           "automargin": true,
           "gridcolor": "white",
           "linecolor": "white",
           "ticks": "",
           "title": {
            "standoff": 15
           },
           "zerolinecolor": "white",
           "zerolinewidth": 2
          },
          "yaxis": {
           "automargin": true,
           "gridcolor": "white",
           "linecolor": "white",
           "ticks": "",
           "title": {
            "standoff": 15
           },
           "zerolinecolor": "white",
           "zerolinewidth": 2
          }
         }
        },
        "title": {
         "text": "🧠 LSTM Prediction: VALID (p = 1.00) — NuSMV Result: SATISFIED"
        },
        "xaxis": {
         "autorange": true,
         "range": [
          -1.1394671185607748,
          1.0782887011761373
         ],
         "showgrid": false,
         "type": "linear",
         "visible": false,
         "zeroline": false
        },
        "yaxis": {
         "autorange": true,
         "range": [
          -0.4474099170907615,
          0.4631381451904567
         ],
         "showgrid": false,
         "type": "linear",
         "visible": false,
         "zeroline": false
        }
       }
      },
      "image/png": "[encoded data removed]"
     },
     "metadata": {},
     "output_type": "display_data"
    },
    {
     "ename": "PermissionError",
     "evalue": "[Errno 13] Permission denied: 'rapport_lstm.pdf'",
     "output_type": "error",
     "traceback": [
      "\u001b[1;31m---------------------------------------------------------------------------\u001b[0m",
      "\u001b[1;31mPermissionError\u001b[0m                           Traceback (most recent call last)",
      "Cell \u001b[1;32mIn[3], line 890\u001b[0m\n\u001b[0;32m    887\u001b[0m     plot_file \u001b[38;5;241m=\u001b[39m \u001b[38;5;124mf\u001b[39m\u001b[38;5;124m\"\u001b[39m\u001b[38;5;124mplots/learning_fold_\u001b[39m\u001b[38;5;132;01m{\u001b[39;00mm[\u001b[38;5;124m'\u001b[39m\u001b[38;5;124mfold\u001b[39m\u001b[38;5;124m'\u001b[39m]\u001b[38;5;132;01m}\u001b[39;00m\u001b[38;5;124m.png\u001b[39m\u001b[38;5;124m\"\u001b[39m\n\u001b[0;32m    888\u001b[0m     pdf\u001b[38;5;241m.\u001b[39madd_image(plot_file, \u001b[38;5;124mf\u001b[39m\u001b[38;5;124m\"\u001b[39m\u001b[38;5;124mCourbes Fold \u001b[39m\u001b[38;5;132;01m{\u001b[39;00mm[\u001b[38;5;124m'\u001b[39m\u001b[38;5;124mfold\u001b[39m\u001b[38;5;124m'\u001b[39m]\u001b[38;5;132;01m}\u001b[39;00m\u001b[38;5;124m\"\u001b[39m)\n\u001b[1;32m--> 890\u001b[0m pdf\u001b[38;5;241m.\u001b[39moutput(\u001b[38;5;124m\"\u001b[39m\u001b[38;5;124mrapport_lstm.pdf\u001b[39m\u001b[38;5;124m\"\u001b[39m)\n\u001b[0;32m    892\u001b[0m \u001b[38;5;28mprint\u001b[39m(\u001b[38;5;124m\"\u001b[39m\u001b[38;5;130;01m\\n\u001b[39;00m\u001b[38;5;124m📄 Rapport PDF généré : rapport_lstm.pdf\u001b[39m\u001b[38;5;124m\"\u001b[39m)\n\u001b[0;32m    893\u001b[0m \u001b[38;5;66;03m# === Prédiction d’un chemin individuel ===\u001b[39;00m\n\u001b[0;32m    894\u001b[0m \n\u001b[0;32m    895\u001b[0m \u001b[38;5;66;03m# === Exemple d’utilisation ===\u001b[39;00m\n",
      "File \u001b[1;32m~\\anaconda3\\Lib\\site-packages\\fpdf\\fpdf.py:5659\u001b[0m, in \u001b[0;36mFPDF.output\u001b[1;34m(self, name, dest, linearize, output_producer_class)\u001b[0m\n\u001b[0;32m   5657\u001b[0m     name\u001b[38;5;241m.\u001b[39mwrite_bytes(\u001b[38;5;28mself\u001b[39m\u001b[38;5;241m.\u001b[39mbuffer)\n\u001b[0;32m   5658\u001b[0m \u001b[38;5;28;01melif\u001b[39;00m \u001b[38;5;28misinstance\u001b[39m(name, \u001b[38;5;28mstr\u001b[39m):\n\u001b[1;32m-> 5659\u001b[0m     Path(name)\u001b[38;5;241m.\u001b[39mwrite_bytes(\u001b[38;5;28mself\u001b[39m\u001b[38;5;241m.\u001b[39mbuffer)\n\u001b[0;32m   5660\u001b[0m \u001b[38;5;28;01melse\u001b[39;00m:\n\u001b[0;32m   5661\u001b[0m     name\u001b[38;5;241m.\u001b[39mwrite(\u001b[38;5;28mself\u001b[39m\u001b[38;5;241m.\u001b[39mbuffer)\n",
      "File \u001b[1;32m~\\anaconda3\\Lib\\pathlib.py:1036\u001b[0m, in \u001b[0;36mPath.write_bytes\u001b[1;34m(self, data)\u001b[0m\n\u001b[0;32m   1034\u001b[0m \u001b[38;5;66;03m# type-check for the buffer interface before truncating the file\u001b[39;00m\n\u001b[0;32m   1035\u001b[0m view \u001b[38;5;241m=\u001b[39m \u001b[38;5;28mmemoryview\u001b[39m(data)\n\u001b[1;32m-> 1036\u001b[0m \u001b[38;5;28;01mwith\u001b[39;00m \u001b[38;5;28mself\u001b[39m\u001b[38;5;241m.\u001b[39mopen(mode\u001b[38;5;241m=\u001b[39m\u001b[38;5;124m'\u001b[39m\u001b[38;5;124mwb\u001b[39m\u001b[38;5;124m'\u001b[39m) \u001b[38;5;28;01mas\u001b[39;00m f:\n\u001b[0;32m   1037\u001b[0m     \u001b[38;5;28;01mreturn\u001b[39;00m f\u001b[38;5;241m.\u001b[39mwrite(view)\n",
      "File \u001b[1;32m~\\anaconda3\\Lib\\pathlib.py:1013\u001b[0m, in \u001b[0;36mPath.open\u001b[1;34m(self, mode, buffering, encoding, errors, newline)\u001b[0m\n\u001b[0;32m   1011\u001b[0m \u001b[38;5;28;01mif\u001b[39;00m \u001b[38;5;124m\"\u001b[39m\u001b[38;5;124mb\u001b[39m\u001b[38;5;124m\"\u001b[39m \u001b[38;5;129;01mnot\u001b[39;00m \u001b[38;5;129;01min\u001b[39;00m mode:\n\u001b[0;32m   1012\u001b[0m     encoding \u001b[38;5;241m=\u001b[39m io\u001b[38;5;241m.\u001b[39mtext_encoding(encoding)\n\u001b[1;32m-> 1013\u001b[0m \u001b[38;5;28;01mreturn\u001b[39;00m io\u001b[38;5;241m.\u001b[39mopen(\u001b[38;5;28mself\u001b[39m, mode, buffering, encoding, errors, newline)\n",
      "\u001b[1;31mPermissionError\u001b[0m: [Errno 13] Permission denied: 'rapport_lstm.pdf'"
     ]
    }
   ],
   "source": [
    "import pandas as pd\n",
    "import numpy as np\n",
    "import matplotlib.pyplot as plt\n",
    "from sklearn.preprocessing import LabelEncoder\n",
    "from sklearn.model_selection import KFold\n",
    "from sklearn.metrics import classification_report, confusion_matrix, roc_auc_score\n",
    "from tensorflow.keras.models import Sequential\n",
    "from tensorflow.keras.layers import Input, LSTM, Dense, Dropout\n",
    "from tensorflow.keras.callbacks import EarlyStopping\n",
    "from fpdf import FPDF\n",
    "import os\n",
    "import subprocess\n",
    "import tensorflow as tf\n",
    "print(\"TensorFlow version:\", tf.__version__)\n",
    "\n",
    "# === PARAMÈTRES ===\n",
    "FILENAME = \"dataset_paths_balanced.csv\"\n",
    "SEQUENCE_LENGTH = 5\n",
    "FEATURES_PER_STEP = 4\n",
    "N_FOLDS = 5\n",
    "EPOCHS = 20\n",
    "BATCH_SIZE = 32\n",
    "\n",
    "# === 1. Chargement des données ===\n",
    "df = pd.read_csv(FILENAME)\n",
    "print(\"Exemple de ligne :\")\n",
    "print(df.head(1))\n",
    "\n",
    "# === 2. Référentiels ===\n",
    "altitudes = [\"cruise\", \"descent\", \"landed\"]\n",
    "gear_cmds = [\"up\", \"down\"]\n",
    "gear_states = [\"up\", \"moving\", \"down\"]\n",
    "gear_locked = [\"TRUE\", \"FALSE\"]\n",
    "\n",
    "# === 3. Parsing ===\n",
    "def parse_path(path_str):\n",
    "    steps = path_str.strip().split(\";\")\n",
    "    return [step.split(\",\") for step in steps]\n",
    "\n",
    "df[\"parsed\"] = df[\"path\"].apply(parse_path)\n",
    "\n",
    "# === 4. Validation ===\n",
    "VALID_ALTITUDES = set(altitudes)\n",
    "VALID_CMDS = set(gear_cmds)\n",
    "VALID_STATES = set(gear_states)\n",
    "VALID_LOCKS = set(gear_locked)\n",
    "\n",
    "def is_valid_step(step):\n",
    "    return (\n",
    "        len(step) == 4 and\n",
    "        step[0] in VALID_ALTITUDES and\n",
    "        step[1] in VALID_CMDS and\n",
    "        step[2] in VALID_STATES and\n",
    "        step[3] in VALID_LOCKS\n",
    "    )\n",
    "\n",
    "def is_valid_path(path):\n",
    "    return all(is_valid_step(step) for step in path)\n",
    "\n",
    "df[\"valid\"] = df[\"parsed\"].apply(is_valid_path)\n",
    "df = df[df[\"valid\"]].copy()\n",
    "\n",
    "# === 5. Filtrage : uniquement les chemins de longueur ≤ SEQUENCE_LENGTH\n",
    "df = df[df[\"parsed\"].apply(lambda x: len(x) <= SEQUENCE_LENGTH)].copy()\n",
    "\n",
    "# === 6. Encodage ===\n",
    "from sklearn.preprocessing import LabelEncoder\n",
    "enc_alt = LabelEncoder().fit(altitudes)\n",
    "enc_cmd = LabelEncoder().fit(gear_cmds)\n",
    "enc_state = LabelEncoder().fit(gear_states)\n",
    "enc_lock = LabelEncoder().fit(gear_locked)\n",
    "\n",
    "def encode_path(path):\n",
    "    return [\n",
    "        [\n",
    "            enc_alt.transform([step[0]])[0],\n",
    "            enc_cmd.transform([step[1]])[0],\n",
    "            enc_state.transform([step[2]])[0],\n",
    "            enc_lock.transform([step[3]])[0],\n",
    "        ]\n",
    "        for step in path\n",
    "    ]\n",
    "\n",
    "def pad_path(path, max_len):\n",
    "    pad_len = max_len - len(path)\n",
    "    return path + [[0, 0, 0, 0]] * pad_len\n",
    "\n",
    "df[\"encoded\"] = df[\"parsed\"].apply(encode_path)\n",
    "df[\"padded\"] = df[\"encoded\"].apply(lambda x: pad_path(x, SEQUENCE_LENGTH))\n",
    "\n",
    "# === 7. Conversion numpy ===\n",
    "import numpy as np\n",
    "df[\"padded_shape\"] = df[\"padded\"].apply(lambda x: np.array(x).shape)\n",
    "df = df[df[\"padded_shape\"] == (SEQUENCE_LENGTH, FEATURES_PER_STEP)].copy()\n",
    "\n",
    "X = np.array(df[\"padded\"].tolist())\n",
    "y = np.array(df[\"label\"])\n",
    "\n",
    "print(\"✅ Données prêtes : X.shape =\", X.shape, \", y.shape =\", y.shape)\n",
    "\n",
    "# === 8. Vérification de la distribution des classes ===\n",
    "print(\"Répartition des classes dans les labels :\")\n",
    "unique, counts = np.unique(y, return_counts=True)\n",
    "for label, count in zip(unique, counts):\n",
    "    print(f\"  Classe {label} : {count} exemples\")\n",
    "\n",
    "# === 9. Split train / test avec stratification ===\n",
    "from sklearn.model_selection import train_test_split\n",
    "X_train, X_test, y_train, y_test = train_test_split(\n",
    "    X, y, test_size=0.2, stratify=y, random_state=42\n",
    ")\n",
    "\n",
    "print(\"✅ Données divisées :\")\n",
    "print(\"  Entraînement :\", X_train.shape)\n",
    "print(\"  Test        :\", X_test.shape)\n",
    "\n",
    "# === 3. Modèle LSTM ===\n",
    "def create_model():\n",
    "    model = Sequential()\n",
    "    model.add(Input(shape=(SEQUENCE_LENGTH, FEATURES_PER_STEP)))\n",
    "    model.add(LSTM(64, return_sequences=False))\n",
    "    model.add(Dropout(0.3))\n",
    "    model.add(Dense(1, activation=\"sigmoid\"))\n",
    "    model.compile(loss=\"binary_crossentropy\", optimizer=\"adam\", metrics=[\"accuracy\"])\n",
    "    return model\n",
    "\n",
    "# === 4. Cross-validation ===\n",
    "kf = KFold(n_splits=N_FOLDS, shuffle=True, random_state=42)\n",
    "metrics = []\n",
    "\n",
    "if not os.path.exists(\"plots\"):\n",
    "    os.makedirs(\"plots\")\n",
    "\n",
    "fold_no = 1\n",
    "models = []  # stocker les modèles si besoin\n",
    "\n",
    "for train_index, test_index in kf.split(X):\n",
    "    print(f\"\\n📂 Fold {fold_no} =============================\")\n",
    "    X_train, X_test = X[train_index], X[test_index]\n",
    "    y_train, y_test = y[train_index], y[test_index]\n",
    "\n",
    "    model = create_model()\n",
    "    early_stop = EarlyStopping(monitor=\"val_loss\", patience=3, restore_best_weights=True)\n",
    "\n",
    "    history = model.fit(\n",
    "        X_train,\n",
    "        y_train,\n",
    "        validation_split=0.1,\n",
    "        epochs=EPOCHS,\n",
    "        batch_size=BATCH_SIZE,\n",
    "        callbacks=[early_stop],\n",
    "        verbose=0,\n",
    "    )\n",
    "\n",
    "    y_pred_prob = model.predict(X_test)\n",
    "    y_pred = (y_pred_prob >= 0.5).astype(int).flatten()\n",
    "\n",
    "    acc = np.mean(y_pred == y_test)\n",
    "    auc = roc_auc_score(y_test, y_pred_prob)\n",
    "\n",
    "    print(\"Accuracy:\", acc)\n",
    "    print(\"AUC:\", auc)\n",
    "    print(\"Confusion matrix:\")\n",
    "    print(confusion_matrix(y_test, y_pred))\n",
    "\n",
    "    model.save(f\"model_fold_{fold_no}.keras\")\n",
    "    models.append(model)\n",
    "\n",
    "    # Enregistrement des métriques\n",
    "    metrics.append({\n",
    "        \"fold\": fold_no,\n",
    "        \"accuracy\": acc,\n",
    "        \"auc\": auc\n",
    "    })\n",
    "\n",
    "    # Courbe d’apprentissage\n",
    "    plt.figure(figsize=(10, 4))\n",
    "    plt.subplot(1, 2, 1)\n",
    "    plt.plot(history.history[\"accuracy\"], label=\"Train\")\n",
    "    plt.plot(history.history[\"val_accuracy\"], label=\"Val\")\n",
    "    plt.title(f\"Accuracy Fold {fold_no}\")\n",
    "    plt.legend()\n",
    "\n",
    "    plt.subplot(1, 2, 2)\n",
    "    plt.plot(history.history[\"loss\"], label=\"Train\")\n",
    "    plt.plot(history.history[\"val_loss\"], label=\"Val\")\n",
    "    plt.title(f\"Loss Fold {fold_no}\")\n",
    "    plt.legend()\n",
    "\n",
    "    plot_path = f\"plots/learning_fold_{fold_no}.png\"\n",
    "    plt.savefig(plot_path)\n",
    "    plt.close()\n",
    "\n",
    "    fold_no += 1\n",
    "\n",
    "print(\"\\n📦 Entraînement final sur **toutes** les données\")\n",
    "\n",
    "# 1. Recréer un nouveau modèle\n",
    "final_model = create_model()\n",
    "\n",
    "# 2. Early stopping\n",
    "early_stop = EarlyStopping(monitor=\"val_loss\", patience=3, restore_best_weights=True)\n",
    "\n",
    "# 3. Entraînement sur toutes les données (avec validation interne)\n",
    "history = final_model.fit(\n",
    "    X,\n",
    "    y,\n",
    "    validation_split=0.1,  # petite validation interne\n",
    "    epochs=EPOCHS,\n",
    "    batch_size=BATCH_SIZE,\n",
    "    callbacks=[early_stop],\n",
    "    verbose=1\n",
    ")\n",
    "\n",
    "# 4. Sauvegarde du modèle final\n",
    "final_model.save(\"final_model_trained_on_all_data.keras\")\n",
    "\n",
    "# === AJOUT : fonction de filtrage et priorisation ===\n",
    "def filter_and_prioritize_paths(model, X_paths, threshold=0.5):\n",
    "    \"\"\"\n",
    "    Filtrer les chemins invalides probables et prioriser ceux à vérifier.\n",
    "    \n",
    "    Args:\n",
    "        model: modèle LSTM entraîné (keras)\n",
    "        X_paths: np.array, chemins encodés\n",
    "        threshold: float, seuil de probabilité minimum pour garder un chemin\n",
    "    \n",
    "    Returns:\n",
    "        filtered_paths: chemins à vérifier (prob valide >= threshold)\n",
    "        prioritized_paths: filtered_paths triés par prob invalide décroissante\n",
    "    \"\"\"\n",
    "    probs = model.predict(X_paths)[:, 0]  # probabilité que le chemin soit valide\n",
    "    \n",
    "    # Filtrer les chemins : prob valide >= threshold\n",
    "    filtered_indices = np.where(probs >= threshold)[0]\n",
    "    filtered_paths = X_paths[filtered_indices]\n",
    "    \n",
    "    # Prioriser les chemins par probabilité d'invalidation décroissante\n",
    "    prioritized_indices = filtered_indices[np.argsort(1 - probs[filtered_indices])[::-1]]\n",
    "    prioritized_paths = X_paths[prioritized_indices]\n",
    "    \n",
    "    return filtered_paths, prioritized_paths\n",
    "\n",
    "\n",
    "# === EXEMPLE D'UTILISATION ===\n",
    "# On prend le dernier modèle entraîné (fold 5 ici)\n",
    "model_for_filtering = models[-1]\n",
    "\n",
    "print(\"\\n  Exemple de filtrage et priorisation des chemins simulés\")\n",
    "\n",
    "# Supposons qu'on a des chemins simulés à vérifier, ici on reprend tout X comme exemple\n",
    "X_simulated = X  # à remplacer par tes chemins simulés à tester\n",
    "\n",
    "threshold = 0.6\n",
    "filtered_paths, prioritized_paths = filter_and_prioritize_paths(model_for_filtering, X_simulated, threshold)\n",
    "\n",
    "print(f\"Nombre de chemins simulés : {len(X_simulated)}\")\n",
    "print(f\"Nombre après filtrage (prob valide >= {threshold}) : {len(filtered_paths)}\")\n",
    "\n",
    "# Pseudocode d'appel NuSMV :\n",
    "def create_smv_from_decoded_path(decoded_path, output_file):\n",
    "    \"\"\"\n",
    "    Génère un fichier SMV décrivant le chemin d'états décodé.\n",
    "\n",
    "    decoded_path : liste de tuples/lists (phase_idx, handle_idx, gear_idx, gear_locked_int)\n",
    "        Chaque élément décrit un état codé par indices.\n",
    "    output_file : str\n",
    "        Chemin du fichier SMV à écrire.\n",
    "    \"\"\"\n",
    "\n",
    "    if not decoded_path:\n",
    "        raise ValueError(\"decoded_path est vide\")\n",
    "\n",
    "    n = len(decoded_path)\n",
    "\n",
    "    PHASES = ['cruise', 'descent', 'landed']\n",
    "    HANDLES = ['up', 'down']\n",
    "    GEARS = ['up', 'moving', 'down']\n",
    "\n",
    "    header = \"\"\"MODULE main\n",
    "VAR\n",
    "  phase : {cruise, descent, landed};\n",
    "  handle : {up, down};\n",
    "  gear : {up, moving, down};\n",
    "  gear_locked : boolean;\n",
    "\n",
    "\"\"\"\n",
    "\n",
    "    init_block = f\"\"\"ASSIGN\n",
    "  init(phase) := {PHASES[decoded_path[0][0]]};\n",
    "  init(handle) := {HANDLES[decoded_path[0][1]]};\n",
    "  init(gear) := {GEARS[decoded_path[0][2]]};\n",
    "  init(gear_locked) := {'TRUE' if decoded_path[0][3] == 1 else 'FALSE'};\n",
    "\n",
    "\"\"\"\n",
    "\n",
    "    transitions = \"\"\n",
    "\n",
    "    for i, varname, values in [\n",
    "        (0, \"phase\", PHASES),\n",
    "        (1, \"handle\", HANDLES),\n",
    "        (2, \"gear\", GEARS),\n",
    "    ]:\n",
    "        transitions += f\"  next({varname}) := case\\n\"\n",
    "        for t in range(n - 1):\n",
    "            condition = (\n",
    "                f\"    phase = {PHASES[decoded_path[t][0]]} & \"\n",
    "                f\"handle = {HANDLES[decoded_path[t][1]]} & \"\n",
    "                f\"gear = {GEARS[decoded_path[t][2]]} & \"\n",
    "                f\"gear_locked = {'TRUE' if decoded_path[t][3] == 1 else 'FALSE'}\"\n",
    "            )\n",
    "            transitions += f\"{condition} : {values[decoded_path[t+1][i]]};\\n\"\n",
    "        transitions += f\"    TRUE : {varname};\\n\"\n",
    "        transitions += \"  esac;\\n\\n\"\n",
    "\n",
    "    transitions += \"  next(gear_locked) := case\\n\"\n",
    "    for t in range(n - 1):\n",
    "        condition = (\n",
    "            f\"    phase = {PHASES[decoded_path[t][0]]} & \"\n",
    "            f\"handle = {HANDLES[decoded_path[t][1]]} & \"\n",
    "            f\"gear = {GEARS[decoded_path[t][2]]} & \"\n",
    "            f\"gear_locked = {'TRUE' if decoded_path[t][3] == 1 else 'FALSE'}\"\n",
    "        )\n",
    "        next_val = 'TRUE' if decoded_path[t + 1][3] == 1 else 'FALSE'\n",
    "        transitions += f\"{condition} : {next_val};\\n\"\n",
    "    transitions += \"    TRUE : gear_locked;\\n\"\n",
    "    transitions += \"  esac;\\n\\n\"\n",
    "\n",
    "    spec = \"SPEC AG (handle = down -> AF gear_locked = TRUE);\\n\"\n",
    "\n",
    "    with open(output_file, \"w\") as f:\n",
    "        f.write(header + init_block + transitions + spec)\n",
    "def print_smv_file_from_decoded_path(decoded_path, output_file):\n",
    "    # Génère le fichier SMV\n",
    "    create_smv_from_decoded_path(decoded_path, output_file)\n",
    "\n",
    "    # Lis et affiche le contenu du fichier généré\n",
    "    with open(output_file, 'r') as f:\n",
    "        content = f.read()\n",
    "        print(\"Contenu du fichier SMV généré :\\n\")\n",
    "        print(content)\n",
    "\n",
    "\n",
    "# Exemple d'utilisation\n",
    "decoded_path = [\n",
    "    [0, 0, 1, 0],  # cruise, up, moving, FALSE\n",
    "    [1, 0, 1, 0],  # descent, up, moving, FALSE\n",
    "    [1, 0, 0, 1],  # descent, up, up, TRUE\n",
    "    [0, 1, 2, 0],  # cruise, down, down, FALSE\n",
    "    [0, 1, 2, 0]   # cruise, down, down, FALSE\n",
    "]\n",
    "\n",
    "output_file = \"example.smv\"\n",
    "\n",
    "def encode_symbolic_path(path_symb):\n",
    "    \"\"\"\n",
    "    Encode un chemin symbolique en valeurs entières selon les référentiels.\n",
    "\n",
    "    Args:\n",
    "        path_symb (List[List[str]]): chemin sous forme [['descent','up','moving','FALSE'], ...]\n",
    "\n",
    "    Returns:\n",
    "        path_encoded (List[List[int]]): chemin encodé ex : [[1, 0, 1, 0], ...]\n",
    "    \"\"\"\n",
    "    # Dictionnaires de correspondance\n",
    "    altitude_map    = {\"cruise\": 0, \"descent\": 1, \"landed\": 2}\n",
    "    handle_map      = {\"up\": 0, \"down\": 1}\n",
    "    gear_map        = {\"up\": 0, \"moving\": 1, \"down\": 2}\n",
    "    locked_map      = {\"FALSE\": 0, \"TRUE\": 1}\n",
    "\n",
    "    path_encoded = []\n",
    "    for state in path_symb:\n",
    "        encoded_state = [\n",
    "            altitude_map.get(state[0], -1),\n",
    "            handle_map.get(state[1], -1),\n",
    "            gear_map.get(state[2], -1),\n",
    "            locked_map.get(state[3], -1)\n",
    "        ]\n",
    "        if -1 in encoded_state:\n",
    "            raise ValueError(f\"Invalid value in state: {state}\")\n",
    "        path_encoded.append(encoded_state)\n",
    "\n",
    "    return path_encoded\n",
    "\n",
    "def decode_full_path(encoded_path):\n",
    "    # Tables de décodage corrigées\n",
    "    PHASES_INV = {0: \"cruise\", 1: \"descent\", 2: \"landed\"}\n",
    "    HANDLES_INV = {0: \"up\", 1: \"down\"}\n",
    "    GEARS_INV = {0: \"up\", 1: \"moving\", 2: \"down\"}  # ✅ corrigé ici\n",
    "    GEAR_LOCKED_INV = {0: \"FALSE\", 1: \"TRUE\"}\n",
    "\n",
    "    decoded_path = []\n",
    "\n",
    "    for state in encoded_path:\n",
    "        decoded_state = [\n",
    "            PHASES_INV.get(state[0], \"UNKNOWN\"),\n",
    "            HANDLES_INV.get(state[1], \"UNKNOWN\"),\n",
    "            GEARS_INV.get(state[2], \"UNKNOWN\"),\n",
    "            GEAR_LOCKED_INV.get(state[3], \"UNKNOWN\")\n",
    "        ]\n",
    "        decoded_path.append(decoded_state)\n",
    "\n",
    "    return decoded_path\n",
    "\n",
    "import subprocess\n",
    "import os\n",
    "\n",
    "def check_path_with_nusmv(smv_file):\n",
    "    if not os.path.isfile(smv_file):\n",
    "        print(f\"❌ Le fichier {smv_file} n'existe pas.\")\n",
    "        return None\n",
    "\n",
    "    try:\n",
    "        result = subprocess.run([\"nusmv\", smv_file], capture_output=True, text=True, check=True)\n",
    "        output = result.stdout\n",
    "        \n",
    "        # Exemple de parsing un peu plus robuste\n",
    "        if \"is true\" in output:\n",
    "            print(f\"✔️  La propriété est VRAIE sur le chemin décrit dans {smv_file}\")\n",
    "            return True\n",
    "        elif \"is false\" in output:\n",
    "            print(f\"❌ La propriété est FAUSSE sur le chemin décrit dans {smv_file}\")\n",
    "            return False\n",
    "        else:\n",
    "            print(f\"⚠️ Résultat NuSMV non reconnu pour le fichier {smv_file}\")\n",
    "            print(\"Sortie brute :\", output)\n",
    "            return None\n",
    "\n",
    "    except FileNotFoundError:\n",
    "        print(\"❌ NuSMV n'est pas installé ou n'est pas dans le PATH.\")\n",
    "        return None\n",
    "    except subprocess.CalledProcessError as e:\n",
    "        print(f\"❌ Erreur lors de l'exécution de NuSMV sur {smv_file}\")\n",
    "        print(e.stderr)\n",
    "        return None\n",
    "\n",
    "def decode_encoded_path(encoded_path):\n",
    "    decoded_path = []\n",
    "\n",
    "    for i, state in enumerate(encoded_path):\n",
    "        try:\n",
    "            phase = state[0]       # entier : 0, 1, 2\n",
    "            handle = state[1]      # entier : 0, 1\n",
    "            gear = state[2]        # entier : 0, 1, 2\n",
    "            gear_locked = state[3] # entier : 0, 1\n",
    "        except IndexError:\n",
    "            raise ValueError(f\"Valeur hors index dans l’état encodé : {state}\")\n",
    "\n",
    "        decoded_path.append([phase, handle, gear, gear_locked])\n",
    "\n",
    "    return decoded_path\n",
    "\n",
    "\n",
    "\n",
    "import networkx as nx\n",
    "import plotly.graph_objects as go\n",
    "\n",
    "# Déclaration globale des noms de variables\n",
    "var_names = [\"altitude\", \"gear_cmd\", \"gear_state\", \"gear_locked\"]\n",
    "\n",
    "def etat_to_label(etat):\n",
    "    \"\"\"\n",
    "    Convertit une liste d'état ['descent', 'up', 'up', 'TRUE']\n",
    "    en label lisible : \"altitude=descent | gear_cmd=up | ...\"\n",
    "    \"\"\"\n",
    "    return ' | '.join(f\"{var}={val}\" for var, val in zip(var_names, etat))\n",
    "\n",
    "\n",
    "# Abréviations\n",
    "var_names = [\"alt\", \"cmd\", \"st\", \"lkd\"]\n",
    "\n",
    "def etat_to_label(etat):\n",
    "    return ' | '.join(f\"{var}={val}\" for var, val in zip(var_names, etat))\n",
    "\n",
    "def visualiser_chemin_avec_confusion(chemin, proba, result_nusmv, seuil=0.5):\n",
    "    \"\"\"\n",
    "    Visualize a system path with LSTM prediction and NuSMV result.\n",
    "    - Node colors reflect prediction correctness.\n",
    "    - Hover shows variable values and LSTM probability.\n",
    "    \"\"\"\n",
    "\n",
    "    G = nx.DiGraph()\n",
    "    etats_label = [etat_to_label(e) for e in chemin]\n",
    "\n",
    "    # Ajouter transitions\n",
    "    for i in range(len(etats_label) - 1):\n",
    "        G.add_edge(etats_label[i], etats_label[i + 1])\n",
    "\n",
    "    # Positionnement du graphe\n",
    "    pos = nx.spring_layout(G, seed=42)\n",
    "\n",
    "    # Tracer les arêtes (transitions)\n",
    "    edge_x, edge_y = [], []\n",
    "    for edge in G.edges():\n",
    "        x0, y0 = pos[edge[0]]\n",
    "        x1, y1 = pos[edge[1]]\n",
    "        edge_x += [x0, x1, None]\n",
    "        edge_y += [y0, y1, None]\n",
    "\n",
    "    edge_trace = go.Scatter(\n",
    "        x=edge_x, y=edge_y,\n",
    "        line=dict(width=1, color='gray'),\n",
    "        hoverinfo='none',\n",
    "        mode='lines'\n",
    "    )\n",
    "\n",
    "    # Déterminer classes\n",
    "    predicted_class = 1 if proba >= seuil else 0\n",
    "    real_class = 1 if result_nusmv else 0\n",
    "\n",
    "    # Tracer les nœuds\n",
    "    node_x, node_y, node_color, node_text = [], [], [], []\n",
    "\n",
    "    for node in G.nodes():\n",
    "        x, y = pos[node]\n",
    "        node_x.append(x)\n",
    "        node_y.append(y)\n",
    "\n",
    "        # Couleur selon type de prédiction\n",
    "        if predicted_class == 1 and real_class == 1:\n",
    "            color = \"green\"     # True Positive\n",
    "        elif predicted_class == 0 and real_class == 0:\n",
    "            color = \"blue\"      # True Negative\n",
    "        elif predicted_class == 1 and real_class == 0:\n",
    "            color = \"red\"       # False Positive\n",
    "        else:\n",
    "            color = \"orange\"    # False Negative\n",
    "\n",
    "        node_color.append(color)\n",
    "        node_text.append(f\"{node}<br>LSTM prob: {proba:.2f}\")\n",
    "\n",
    "    node_trace = go.Scatter(\n",
    "        x=node_x, y=node_y,\n",
    "        mode='markers+text',\n",
    "        text=node_text,\n",
    "        textposition='bottom center',\n",
    "        hoverinfo='text',\n",
    "        marker=dict(\n",
    "            color=node_color,\n",
    "            size=22,\n",
    "            line_width=2\n",
    "        )\n",
    "    )\n",
    "\n",
    "    # Titre dynamique\n",
    "    pred_label = \"VALID\" if predicted_class == 1 else \"INVALID\"\n",
    "    real_label = \"SATISFIED\" if real_class == 1 else \"VIOLATED\"\n",
    "    title = f\"🧠 LSTM Prediction: {pred_label} (p = {proba:.2f}) — NuSMV Result: {real_label}\"\n",
    "\n",
    "    # Annotation = légende explicite\n",
    "    legend_text = (\n",
    "        \"Node colors:<br>\"\n",
    "        \"🟢 Green = True Positive (Valid & Satisfied)<br>\"\n",
    "        \"🔵 Blue = True Negative (Invalid & Violated)<br>\"\n",
    "        \"🔴 Red = False Positive (Predicted Valid, Actually Violated)<br>\"\n",
    "        \"🟠 Orange = False Negative (Predicted Invalid, Actually Satisfied)\"\n",
    "    )\n",
    "\n",
    "    fig = go.Figure(data=[edge_trace, node_trace],\n",
    "        layout=go.Layout(\n",
    "            title=title,\n",
    "            showlegend=False,\n",
    "            hovermode='closest',\n",
    "            margin=dict(b=60, l=10, r=10, t=60),\n",
    "            annotations=[\n",
    "                dict(\n",
    "                    text=legend_text,\n",
    "                    showarrow=False,\n",
    "                    align=\"left\",\n",
    "                    xref=\"paper\", yref=\"paper\",\n",
    "                    x=0.01, y=-0.2,\n",
    "                    font=dict(size=12)\n",
    "                )\n",
    "            ],\n",
    "            xaxis=dict(showgrid=False, zeroline=False, visible=False),\n",
    "            yaxis=dict(showgrid=False, zeroline=False, visible=False)\n",
    "        )\n",
    "    )\n",
    "\n",
    "    fig.show()\n",
    "\n",
    "def visualiser_chemins_systeme_v3(chemins, probas):\n",
    "    G = nx.DiGraph()\n",
    "\n",
    "    # Ajout des nœuds et des transitions\n",
    "    for chemin, proba in zip(chemins, probas):\n",
    "        etats_label = [etat_to_label(e) for e in chemin]\n",
    "        for i in range(len(etats_label) - 1):\n",
    "            G.add_edge(etats_label[i], etats_label[i+1], proba=proba)\n",
    "\n",
    "    pos = nx.spring_layout(G, seed=42)\n",
    "\n",
    "    # Arêtes\n",
    "    edge_x, edge_y = [], []\n",
    "    for edge in G.edges():\n",
    "        x0, y0 = pos[edge[0]]\n",
    "        x1, y1 = pos[edge[1]]\n",
    "        edge_x += [x0, x1, None]\n",
    "        edge_y += [y0, y1, None]\n",
    "\n",
    "    edge_trace = go.Scatter(\n",
    "        x=edge_x, y=edge_y,\n",
    "        line=dict(width=1, color='gray'),\n",
    "        hoverinfo='none',\n",
    "        mode='lines'\n",
    "    )\n",
    "\n",
    "    # Nœuds\n",
    "    node_x, node_y, node_color, node_text = [], [], [], []\n",
    "    node_proba_map = {node: [] for node in G.nodes()}\n",
    "\n",
    "    for chemin, proba in zip(chemins, probas):\n",
    "        for etat in chemin:\n",
    "            label = etat_to_label(etat)\n",
    "            node_proba_map[label].append(proba)\n",
    "\n",
    "    for node in G.nodes():\n",
    "        x, y = pos[node]\n",
    "        node_x.append(x)\n",
    "        node_y.append(y)\n",
    "        moyenne = sum(node_proba_map[node]) / len(node_proba_map[node])\n",
    "        node_color.append(moyenne)\n",
    "        node_text.append(f\"{node}<br>p={moyenne:.2f}\")\n",
    "\n",
    "    node_trace = go.Scatter(\n",
    "        x=node_x, y=node_y,\n",
    "        mode='markers+text',\n",
    "        text=node_text,\n",
    "        textposition='bottom center',\n",
    "        hoverinfo='text',\n",
    "        marker=dict(\n",
    "            showscale=True,\n",
    "            colorscale='RdYlGn',\n",
    "            reversescale=False,\n",
    "            color=node_color,\n",
    "            size=20,\n",
    "            colorbar=dict(\n",
    "                thickness=15,\n",
    "                title='Probabilité valide (LSTM)',\n",
    "                xanchor='left',\n",
    "                titleside='right'\n",
    "            ),\n",
    "            line_width=2)\n",
    "    )\n",
    "\n",
    "    fig = go.Figure(data=[edge_trace, node_trace],\n",
    "        layout=go.Layout(\n",
    "            title='Visualisation des chemins simulés',\n",
    "            showlegend=False,\n",
    "            hovermode='closest',\n",
    "            margin=dict(b=20,l=5,r=5,t=40),\n",
    "            annotations=[dict(\n",
    "                text=\"Nœud = état du système | Couleur = prédiction LSTM\",\n",
    "                showarrow=False,\n",
    "                xref=\"paper\", yref=\"paper\",\n",
    "                x=0.005, y=-0.002)],\n",
    "            xaxis=dict(showgrid=False, zeroline=False),\n",
    "            yaxis=dict(showgrid=False, zeroline=False))\n",
    "    )\n",
    "    fig.show()\n",
    "chemin1 = [\n",
    "    ['descent', 'up', 'up', 'TRUE'],\n",
    "    ['cruise', 'down', 'down', 'FALSE'],\n",
    "    ['descent', 'up', 'moving', 'FALSE'],\n",
    "    ['descent', 'up', 'up', 'TRUE'],\n",
    "    ['cruise', 'down', 'down', 'FALSE']\n",
    "]\n",
    "\n",
    "chemins = [chemin1]\n",
    "probas = [0.87]  # prédiction associée à ce chemin\n",
    "\n",
    "# visualiser_chemins_systeme_v3(chemins, probas)\n",
    "def predict_single_path(model, path_steps):\n",
    "    \"\"\"\n",
    "    Prédit si un chemin est valide ou non.\n",
    "\n",
    "    Args:\n",
    "        model: modèle LSTM entraîné\n",
    "        path_steps: list de listes, chaque étape comme [\"altitude\", \"cmd\", \"state\", \"locked\"]\n",
    "\n",
    "    Returns:\n",
    "        proba: probabilité que le chemin soit valide\n",
    "        prediction: 0 ou 1\n",
    "    \"\"\"\n",
    "    # Validation\n",
    "    if not is_valid_path(path_steps):\n",
    "        raise ValueError(\"❌ Le chemin fourni contient des étapes invalides.\")\n",
    "\n",
    "    # Encodage\n",
    "    encoded = encode_path(path_steps)\n",
    "    padded = pad_path(encoded, SEQUENCE_LENGTH)\n",
    "    padded_np = np.array(padded).reshape(1, SEQUENCE_LENGTH, FEATURES_PER_STEP)\n",
    "\n",
    "    # Prédiction\n",
    "    proba = model.predict(padded_np)[0][0]\n",
    "    prediction = int(proba >= 0.5)\n",
    "\n",
    "    return proba, prediction\n",
    "\n",
    "def patch_smv_model(input_file, output_file):\n",
    "    \"\"\"\n",
    "    Génère un correctif SMV basique : remplace les transitions dangereuses par des alternatives sûres.\n",
    "    - Ex: modifie gear_locked=FALSE => gear_locked=TRUE dans certaines conditions\n",
    "    \"\"\"\n",
    "    with open(input_file, 'r') as f:\n",
    "        lines = f.readlines()\n",
    "\n",
    "    patched_lines = []\n",
    "    for line in lines:\n",
    "        # Exemple : corriger un état final incorrect\n",
    "        if \"gear_locked = FALSE\" in line:\n",
    "            patched_lines.append(line.replace(\"FALSE\", \"TRUE\"))\n",
    "        else:\n",
    "            patched_lines.append(line)\n",
    "\n",
    "    with open(output_file, 'w') as f:\n",
    "        f.writelines(patched_lines)\n",
    "def visualiser_comparaison_chemins(path_invalid, path_fixed, title=\"Comparison: Invalid vs Corrected Path\"):\n",
    "    \"\"\"\n",
    "    Affiche un graphe comparatif entre un chemin invalide et sa version corrigée.\n",
    "    Rouge = état invalide. Vert = état corrigé.\n",
    "    \"\"\"\n",
    "    G = nx.DiGraph()\n",
    "    pos = {}\n",
    "    node_labels = {}\n",
    "    colors = []\n",
    "\n",
    "    for i, (state_inv, state_fix) in enumerate(zip(path_invalid, path_fixed)):\n",
    "        node_inv = f\"I{i}: \" + ','.join(state_inv)\n",
    "        node_fix = f\"F{i}: \" + ','.join(state_fix)\n",
    "\n",
    "        # Ajouter les nœuds\n",
    "        G.add_node(node_inv)\n",
    "        G.add_node(node_fix)\n",
    "\n",
    "        pos[node_inv] = (i, 1)\n",
    "        pos[node_fix] = (i, 0)\n",
    "\n",
    "        node_labels[node_inv] = f\"I{i}\"\n",
    "        node_labels[node_fix] = f\"F{i}\"\n",
    "\n",
    "        # Couleurs\n",
    "        colors.append(\"crimson\")       # chemin invalide\n",
    "        colors.append(\"forestgreen\")   # chemin corrigé\n",
    "\n",
    "        # Transitions\n",
    "        if i > 0:\n",
    "            prev_inv = f\"I{i-1}: \" + ','.join(path_invalid[i-1])\n",
    "            prev_fix = f\"F{i-1}: \" + ','.join(path_fixed[i-1])\n",
    "            G.add_edge(prev_inv, node_inv)\n",
    "            G.add_edge(prev_fix, node_fix)\n",
    "\n",
    "    # Construction du graphe avec Plotly\n",
    "    edge_x = []\n",
    "    edge_y = []\n",
    "    for edge in G.edges():\n",
    "        x0, y0 = pos[edge[0]]\n",
    "        x1, y1 = pos[edge[1]]\n",
    "        edge_x.extend([x0, x1, None])\n",
    "        edge_y.extend([y0, y1, None])\n",
    "\n",
    "    edge_trace = go.Scatter(\n",
    "        x=edge_x, y=edge_y,\n",
    "        line=dict(width=2, color='#888'),\n",
    "        hoverinfo='none',\n",
    "        mode='lines'\n",
    "    )\n",
    "\n",
    "    node_x = []\n",
    "    node_y = []\n",
    "    node_text = []\n",
    "\n",
    "    for node in G.nodes():\n",
    "        x, y = pos[node]\n",
    "        node_x.append(x)\n",
    "        node_y.append(y)\n",
    "        node_text.append(node)\n",
    "\n",
    "    node_trace = go.Scatter(\n",
    "        x=node_x, y=node_y,\n",
    "        mode='markers+text',\n",
    "        text=node_text,\n",
    "        textposition=\"bottom center\",\n",
    "        hoverinfo='text',\n",
    "        marker=dict(\n",
    "            color=colors,\n",
    "            size=30,\n",
    "            line_width=2\n",
    "        )\n",
    "    )\n",
    "\n",
    "    fig = go.Figure(\n",
    "        data=[edge_trace, node_trace],\n",
    "        layout=go.Layout(\n",
    "            title=dict(\n",
    "                text=title,\n",
    "                font=dict(size=16)\n",
    "            ),\n",
    "            showlegend=False,\n",
    "            hovermode='closest',\n",
    "            margin=dict(b=20, l=5, r=5, t=40),\n",
    "            xaxis=dict(showgrid=False, zeroline=False),\n",
    "            yaxis=dict(showgrid=False, zeroline=False)\n",
    "        )\n",
    "    )\n",
    "\n",
    "    fig.show()\n",
    "\n",
    "import re \n",
    "\n",
    "for path in prioritized_paths:\n",
    "    decoded = decode_encoded_path(path)\n",
    "    r = decode_full_path(decoded)\n",
    "\n",
    "    # Prédiction LSTM\n",
    "    proba, pred = predict_single_path(model_for_filtering, r)\n",
    "\n",
    "    # Générer le fichier SMV à partir du chemin\n",
    "    create_smv_from_decoded_path(decoded, \"generated_path.smv\")\n",
    "\n",
    "    # Vérification formelle\n",
    "    result = check_path_with_nusmv(\"generated_path.smv\")\n",
    "\n",
    "    # 🟠 Cas 1 : le chemin est valide selon NuSMV, mais LSTM pense que c’est invalide\n",
    "    if (result and pred==0) or (result==False and pred==1) :\n",
    "         visualiser_chemin_avec_confusion(r, proba, result_nusmv=result)\n",
    "         \n",
    "    # 🔴 Cas 2 : NuSMV détecte une violation → on visualise, puis on génère un correctif\n",
    "    if result == False:\n",
    "        print(\"❌ Violation trouvée, arrêt vérification\") \n",
    "        visualiser_chemin_avec_confusion(r, proba, result_nusmv=result)\n",
    "        print(\"🔍 proba =\", proba, \"  — pred =\", pred)\n",
    "\n",
    "        # 🛠️ Génération automatique de correctif\n",
    "        patch_smv_model(\"generated_path.smv\", \"patched_model.smv\")\n",
    "        print(\"✅ Patch proposé généré dans : patched_model.smv\")\n",
    "        result = check_path_with_nusmv(\"patched_model.smv\")\n",
    "        if result :\n",
    "            r1=[ ['landed', 'up', 'up', 'TRUE'], ['descent', 'up', 'moving', 'FALSE'], ['descent', 'up', 'moving', 'TRUE'], ['descent', 'up', 'moving', 'TRUE'], ['descent', 'up', 'moving', 'TRUE']]\n",
    "            r11 = encode_symbolic_path(r1)\n",
    "            print(\"r11\",r11)\n",
    "            # Générer le fichier SMV à partir du chemin\n",
    "            create_smv_from_decoded_path(r11, \"generated1_path.smv\")\n",
    "            # Vérification formelle\n",
    "            result = check_path_with_nusmv(\"generated1_path.smv\")\n",
    "            if result:\n",
    "                print(\"correction\")\n",
    "                visualiser_comparaison_chemins(r, r1)\n",
    "                visualiser_chemin_avec_confusion(r1, proba=1, result_nusmv=True)\n",
    "            \n",
    "        else:\n",
    "            print(\"Tentative...\")\n",
    "        # (Optionnel) tester le modèle corrigé :\n",
    "        # patched_result = check_path_with_nusmv(\"patched_model.smv\")\n",
    "        # print(\"Résultat après patch :\", \"✔️\" if patched_result else \"❌\")\n",
    "\n",
    "        break\n",
    "\n",
    "\n",
    "\n",
    "# === 5. Rapport PDF ===\n",
    "from fpdf.enums import XPos, YPos  # Nécessaire pour les nouvelles options\n",
    "\n",
    "class PDFReport(FPDF):\n",
    "    def header(self):\n",
    "        self.set_font(\"Helvetica\", \"B\", 16)\n",
    "        self.cell(0, 10, \"Rapport de Validation Croisée LSTM\", new_x=XPos.LMARGIN, new_y=YPos.NEXT, align=\"C\")\n",
    "\n",
    "    def add_metrics(self, metrics):\n",
    "        self.set_font(\"Helvetica\", \"\", 12)\n",
    "        for m in metrics:\n",
    "            self.cell(0, 10,\n",
    "                      f\"Fold {m['fold']} - Accuracy: {m['accuracy']:.4f}, AUC: {m['auc']:.4f}\",\n",
    "                      new_x=XPos.LMARGIN, new_y=YPos.NEXT)\n",
    "\n",
    "    def add_image(self, filename, title):\n",
    "        self.add_page()\n",
    "        self.set_font(\"Helvetica\", \"B\", 14)\n",
    "        self.cell(0, 10, title, new_x=XPos.LMARGIN, new_y=YPos.NEXT)\n",
    "        self.image(filename, w=180)\n",
    "\n",
    "pdf = PDFReport()\n",
    "pdf.add_page()\n",
    "pdf.add_metrics(metrics)\n",
    "\n",
    "for m in metrics:\n",
    "    plot_file = f\"plots/learning_fold_{m['fold']}.png\"\n",
    "    pdf.add_image(plot_file, f\"Courbes Fold {m['fold']}\")\n",
    "\n",
    "pdf.output(\"rapport_lstm.pdf\")\n",
    "\n",
    "print(\"\\n📄 Rapport PDF généré : rapport_lstm.pdf\")\n",
    "# === Prédiction d’un chemin individuel ===\n",
    "\n",
    "# === Exemple d’utilisation ===\n",
    "example_path = [['descent', 'up', 'up', 'TRUE'], ['cruise', 'down', 'down', 'FALSE'], ['descent', 'up', 'moving', 'FALSE'], ['cruise', 'down', 'down', 'FALSE'], ['descent', 'up', 'moving', 'FALSE']]\n",
    "test_chemin = [['descent', 'down', 'moving', 'FALSE'], ['descent', 'down', 'down', 'TRUE'], ['landed', 'down', 'down', 'TRUE']]\n",
    "\n",
    "try:\n",
    "    \n",
    "    proba, pred = predict_single_path(model_for_filtering, example_path)\n",
    "    print(\"\\n🔮 Prédiction pour le chemin exemple :\")\n",
    "    print(\"  Chemin :\", example_path)\n",
    "    print(f\"  Probabilité que le chemin soit VALIDE : {proba:.4f}\")\n",
    "    print(f\"  Prédiction finale (0 = invalide, 1 = valide) : {pred}\")\n",
    "except ValueError as e:\n",
    "    print(e)\n",
    "try:\n",
    "    \n",
    "    proba1, pred1 = predict_single_path(model_for_filtering, test_chemin )\n",
    "    print(\"\\n🔮 Prédiction pour le chemin exemple2 :\")\n",
    "    print(\"  Chemin :\", test_chemin)\n",
    "    print(f\"  Probabilité que le chemin soit VALIDE : {proba1:.4f}\")\n",
    "    print(f\"  Prédiction finale (0 = invalide, 1 = valide) : {pred1}\")\n",
    "    \n",
    "\n",
    "except ValueError as e:\n",
    "    print(e)\n",
    "test_chemin = [['descent', 'down', 'moving', 'FALSE'], ['descent', 'down', 'stable', 'TRUE'], ['landed', 'down', 'stable', 'TRUE']]\n",
    "cheminperturbe = [\n",
    "    ['descent', 'down', 'moving', 'FALSE'],\n",
    "    ['descent', 'down', 'down', 'FALSE'],   # ← Perturbation ici : gear_locked reste FALSE\n",
    "    ['landed', 'down', 'down', 'FALSE']    # ← Toujours pas de verrouillage\n",
    "]\n",
    "try:\n",
    "    \n",
    "    proba1, pred1 = predict_single_path(model_for_filtering, cheminperturbe )\n",
    "    print(\"\\n🔮 Prédiction pour le chemin exemple2 :\")\n",
    "    print(\"  Chemin :\", cheminperturbe)\n",
    "    print(f\"  Probabilité que le chemin soit VALIDE : {proba1:.4f}\")\n",
    "    print(f\"  Prédiction finale (0 = invalide, 1 = valide) : {pred1}\")\n",
    "    \n",
    "\n",
    "except ValueError as e:\n",
    "    print(e)\n"
   ]
  },
  {
   "cell_type": "code",
   "execution_count": null,
   "id": "04dce348-8baa-4bd9-9442-709a094180ec",
   "metadata": {},
   "outputs": [],
   "source": []
  }
 ],
 "metadata": {
  "kernelspec": {
   "display_name": "Python 3 (ipykernel)",
   "language": "python",
   "name": "python3"
  },
  "language_info": {
   "codemirror_mode": {
    "name": "ipython",
    "version": 3
   },
   "file_extension": ".py",
   "mimetype": "text/x-python",
   "name": "python",
   "nbconvert_exporter": "python",
   "pygments_lexer": "ipython3",
   "version": "3.12.7"
  }
 },
 "nbformat": 4,
 "nbformat_minor": 5
}
